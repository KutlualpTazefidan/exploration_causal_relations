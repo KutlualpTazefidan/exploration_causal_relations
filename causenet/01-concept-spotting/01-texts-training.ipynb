{
 "cells": [
  {
   "cell_type": "markdown",
   "metadata": {},
   "source": [
    "# Preamble"
   ]
  },
  {
   "cell_type": "code",
   "execution_count": 1,
   "metadata": {
    "scrolled": true
   },
   "outputs": [
    {
     "name": "stderr",
     "output_type": "stream",
     "text": [
      "/home/pclinux/anaconda3/lib/python3.10/site-packages/tqdm/auto.py:21: TqdmWarning: IProgress not found. Please update jupyter and ipywidgets. See https://ipywidgets.readthedocs.io/en/stable/user_install.html\n",
      "  from .autonotebook import tqdm as notebook_tqdm\n"
     ]
    }
   ],
   "source": [
    "from flair.datasets import ColumnCorpus # Used to load and preprocess text data for NLP tasks\n",
    "from flair.embeddings import FlairEmbeddings # Representations of words in vector form\n",
    "from flair.embeddings import CharacterEmbeddings # Representations of words in vector form\n",
    "from flair.embeddings import TokenEmbeddings # Representations of words in vector form\n",
    "from flair.embeddings import StackedEmbeddings # Representations of words in vector form\n",
    "from flair.models import SequenceTagger # sequence tagging, NER or POS\n",
    "from flair.trainers import ModelTrainer # Training Flair models\n",
    "from typing import List\n",
    "import numpy as np\n",
    "import os\n",
    "import torch\n",
    "import random"
   ]
  },
  {
   "cell_type": "code",
   "execution_count": 2,
   "metadata": {},
   "outputs": [],
   "source": [
    "# files on: https://groups.uni-paderborn.de/wdqa/causenet/flair-models/texts/\n",
    "PATH_SPOTTING_DATASET = \"../../data/concept-spotting/sentences/\"\n",
    "PATH_FLAIR_FOLDER = \"../../data/flair-models/sentences/\""
   ]
  },
  {
   "cell_type": "markdown",
   "metadata": {},
   "source": [
    "# Sentence-Spotter: Training"
   ]
  },
  {
   "cell_type": "code",
   "execution_count": 3,
   "metadata": {},
   "outputs": [],
   "source": [
    "def set_seed(seed):\n",
    "    # For reproducibility\n",
    "    # (https://pytorch.org/docs/stable/notes/randomness.html)\n",
    "    np.random.seed(seed)\n",
    "    random.seed(seed)\n",
    "    torch.manual_seed(seed)\n",
    "    torch.cuda.manual_seed(seed)\n",
    "    os.environ['PYTHONHASHSEED'] = str(seed)\n",
    "\n",
    "    torch.backends.cudnn.deterministic = True # cuDNN operations will produce the same results on the GPU across runs\n",
    "    torch.backends.cudnn.benchmark = False #  When enabled, cuDNN may dynamically choose the best algorithm for convolution operations, which can result in slightly different numerical results across runs."
   ]
  },
  {
   "cell_type": "code",
   "execution_count": 4,
   "metadata": {},
   "outputs": [
    {
     "name": "stdout",
     "output_type": "stream",
     "text": [
      "2023-10-07 17:19:08,649 Reading data from ../../data/concept-spotting/sentences\n",
      "2023-10-07 17:19:08,651 Train: ../../data/concept-spotting/sentences/train.txt\n",
      "2023-10-07 17:19:08,652 Dev: ../../data/concept-spotting/sentences/dev.txt\n",
      "2023-10-07 17:19:08,654 Test: ../../data/concept-spotting/sentences/test.txt\n"
     ]
    },
    {
     "name": "stderr",
     "output_type": "stream",
     "text": [
      "/tmp/ipykernel_11762/1214949526.py:7: DeprecationWarning: Call to deprecated method make_tag_dictionary. (Use 'make_label_dictionary' instead.) -- Deprecated since version 0.8.\n",
      "  tag_dictionary = corpus.make_tag_dictionary(tag_type=tag_type) # Storing the tags/bio-chunks\n"
     ]
    },
    {
     "name": "stdout",
     "output_type": "stream",
     "text": [
      "Corpus: 583 train + 127 dev + 122 test sentences\n"
     ]
    }
   ],
   "source": [
    "# data preperation for NLP, defning the structure of the dataset, type of tagging, dictionary for tags\n",
    "# Mapping column indices (0, 1, 2) to column names ('text', 'pos', 'chunk_BIO'), the structure of the data set\n",
    "# text, part of speech, containing BIO (Begin,Inside,Outside) - beginning, inside and end of the sentence\n",
    "columns = {0: 'text', 1: 'pos', 2: 'chunk_BIO'} \n",
    "tag_type = \"chunk_BIO\"\n",
    "corpus = ColumnCorpus(PATH_SPOTTING_DATASET, columns) # \n",
    "tag_dictionary = corpus.make_tag_dictionary(tag_type=tag_type) # Storing the tags/bio-chunks\n",
    "print(corpus)"
   ]
  },
  {
   "cell_type": "code",
   "execution_count": 10,
   "metadata": {},
   "outputs": [
    {
     "name": "stdout",
     "output_type": "stream",
     "text": [
      "2023-10-07 17:46:04,128 SequenceTagger predicts: Dictionary with 3 tags: O, <START>, <STOP>\n"
     ]
    }
   ],
   "source": [
    "set_seed(42)\n",
    "# defining a list of embeddings to be used in the model\n",
    "# CharacterEmbeddings : characters in the word, capturing subword information\n",
    "# FlairEmbeddings : pretrained contextual embeddings - based on forward & backward pass LM trained on news\n",
    "embedding_types: List[TokenEmbeddings] = [\n",
    "    CharacterEmbeddings(), \n",
    "    FlairEmbeddings('news-forward'), \n",
    "    FlairEmbeddings('news-backward')]\n",
    "\n",
    "# Stacking the embeddings types created before.\n",
    "embeddings: StackedEmbeddings = StackedEmbeddings(embeddings=embedding_types)\n",
    "set_seed(42)\n",
    "\n",
    "# Extracting important parts of sentences\n",
    "tagger: SequenceTagger = SequenceTagger(hidden_size=64,\n",
    "                                        embeddings=embeddings,\n",
    "                                        tag_dictionary=tag_dictionary,\n",
    "                                        tag_type=tag_type,\n",
    "                                        use_crf=True,\n",
    "                                        dropout=0.25,\n",
    "                                        rnn_layers=2)\n",
    "set_seed(42)\n",
    "trainer: ModelTrainer = ModelTrainer(tagger, corpus)"
   ]
  },
  {
   "cell_type": "code",
   "execution_count": 11,
   "metadata": {
    "scrolled": true
   },
   "outputs": [
    {
     "name": "stdout",
     "output_type": "stream",
     "text": [
      "2023-10-07 17:46:05,913 ----------------------------------------------------------------------------------------------------\n",
      "2023-10-07 17:46:05,914 Model: \"SequenceTagger(\n",
      "  (embeddings): StackedEmbeddings(\n",
      "    (list_embedding_0): CharacterEmbeddings(\n",
      "      (char_embedding): Embedding(275, 25)\n",
      "      (char_rnn): LSTM(25, 25, bidirectional=True)\n",
      "    )\n",
      "    (list_embedding_1): FlairEmbeddings(\n",
      "      (lm): LanguageModel(\n",
      "        (drop): Dropout(p=0.05, inplace=False)\n",
      "        (encoder): Embedding(300, 100)\n",
      "        (rnn): LSTM(100, 2048)\n",
      "      )\n",
      "    )\n",
      "    (list_embedding_2): FlairEmbeddings(\n",
      "      (lm): LanguageModel(\n",
      "        (drop): Dropout(p=0.05, inplace=False)\n",
      "        (encoder): Embedding(300, 100)\n",
      "        (rnn): LSTM(100, 2048)\n",
      "      )\n",
      "    )\n",
      "  )\n",
      "  (dropout): Dropout(p=0.25, inplace=False)\n",
      "  (word_dropout): WordDropout(p=0.05)\n",
      "  (locked_dropout): LockedDropout(p=0.5)\n",
      "  (embedding2nn): Linear(in_features=4146, out_features=4146, bias=True)\n",
      "  (rnn): LSTM(4146, 64, num_layers=2, batch_first=True, dropout=0.5, bidirectional=True)\n",
      "  (linear): Linear(in_features=128, out_features=3, bias=True)\n",
      "  (loss_function): ViterbiLoss()\n",
      "  (crf): CRF()\n",
      ")\"\n",
      "2023-10-07 17:46:05,916 ----------------------------------------------------------------------------------------------------\n",
      "2023-10-07 17:46:05,946 Corpus: \"Corpus: 583 train + 127 dev + 122 test sentences\"\n",
      "2023-10-07 17:46:05,948 ----------------------------------------------------------------------------------------------------\n",
      "2023-10-07 17:46:05,949 Parameters:\n",
      "2023-10-07 17:46:05,951  - learning_rate: \"0.200000\"\n",
      "2023-10-07 17:46:05,953  - mini_batch_size: \"32\"\n",
      "2023-10-07 17:46:05,954  - patience: \"3\"\n",
      "2023-10-07 17:46:05,956  - anneal_factor: \"0.5\"\n",
      "2023-10-07 17:46:05,958  - max_epochs: \"20\"\n",
      "2023-10-07 17:46:05,960  - shuffle: \"True\"\n",
      "2023-10-07 17:46:05,964  - train_with_dev: \"False\"\n",
      "2023-10-07 17:46:05,967  - batch_growth_annealing: \"False\"\n",
      "2023-10-07 17:46:05,968 ----------------------------------------------------------------------------------------------------\n",
      "2023-10-07 17:46:05,969 Model training base path: \"../../data/flair-models/sentences\"\n",
      "2023-10-07 17:46:05,972 ----------------------------------------------------------------------------------------------------\n",
      "2023-10-07 17:46:05,974 Device: cuda:0\n",
      "2023-10-07 17:46:05,975 ----------------------------------------------------------------------------------------------------\n",
      "2023-10-07 17:46:05,977 Embeddings storage mode: cpu\n",
      "2023-10-07 17:46:05,979 ----------------------------------------------------------------------------------------------------\n",
      "2023-10-07 17:46:06,908 epoch 1 - iter 1/19 - loss 0.00000000 - time (sec): 0.93 - samples/sec: 883.38 - lr: 0.200000\n",
      "2023-10-07 17:46:08,128 epoch 1 - iter 2/19 - loss 0.00000000 - time (sec): 2.15 - samples/sec: 863.22 - lr: 0.200000\n",
      "2023-10-07 17:46:09,246 epoch 1 - iter 3/19 - loss 0.00000000 - time (sec): 3.27 - samples/sec: 865.25 - lr: 0.200000\n",
      "2023-10-07 17:46:10,426 epoch 1 - iter 4/19 - loss 0.00000000 - time (sec): 4.45 - samples/sec: 855.51 - lr: 0.200000\n",
      "2023-10-07 17:46:11,458 epoch 1 - iter 5/19 - loss 0.00000001 - time (sec): 5.48 - samples/sec: 853.35 - lr: 0.200000\n",
      "2023-10-07 17:46:12,516 epoch 1 - iter 6/19 - loss 0.00000001 - time (sec): 6.54 - samples/sec: 832.30 - lr: 0.200000\n",
      "2023-10-07 17:46:13,649 epoch 1 - iter 7/19 - loss 0.00000001 - time (sec): 7.67 - samples/sec: 825.81 - lr: 0.200000\n",
      "2023-10-07 17:46:14,698 epoch 1 - iter 8/19 - loss 0.00000001 - time (sec): 8.72 - samples/sec: 832.60 - lr: 0.200000\n",
      "2023-10-07 17:46:15,837 epoch 1 - iter 9/19 - loss 0.00000001 - time (sec): 9.86 - samples/sec: 830.23 - lr: 0.200000\n",
      "2023-10-07 17:46:16,909 epoch 1 - iter 10/19 - loss 0.00000001 - time (sec): 10.93 - samples/sec: 833.44 - lr: 0.200000\n",
      "2023-10-07 17:46:17,960 epoch 1 - iter 11/19 - loss 0.00000001 - time (sec): 11.98 - samples/sec: 832.98 - lr: 0.200000\n",
      "2023-10-07 17:46:18,962 epoch 1 - iter 12/19 - loss 0.00000001 - time (sec): 12.98 - samples/sec: 839.11 - lr: 0.200000\n",
      "2023-10-07 17:46:19,932 epoch 1 - iter 13/19 - loss 0.00000001 - time (sec): 13.95 - samples/sec: 845.55 - lr: 0.200000\n",
      "2023-10-07 17:46:20,913 epoch 1 - iter 14/19 - loss 0.00000001 - time (sec): 14.93 - samples/sec: 849.51 - lr: 0.200000\n",
      "2023-10-07 17:46:21,869 epoch 1 - iter 15/19 - loss 0.00000001 - time (sec): 15.89 - samples/sec: 850.95 - lr: 0.200000\n",
      "2023-10-07 17:46:22,815 epoch 1 - iter 16/19 - loss 0.00000001 - time (sec): 16.83 - samples/sec: 855.13 - lr: 0.200000\n",
      "2023-10-07 17:46:23,953 epoch 1 - iter 17/19 - loss 0.00000001 - time (sec): 17.97 - samples/sec: 855.52 - lr: 0.200000\n",
      "2023-10-07 17:46:24,913 epoch 1 - iter 18/19 - loss 0.00000001 - time (sec): 18.93 - samples/sec: 860.35 - lr: 0.200000\n",
      "2023-10-07 17:46:25,450 epoch 1 - iter 19/19 - loss 0.00000001 - time (sec): 19.47 - samples/sec: 854.76 - lr: 0.200000\n",
      "2023-10-07 17:46:25,453 ----------------------------------------------------------------------------------------------------\n",
      "2023-10-07 17:46:25,454 EPOCH 1 done: loss 0.0000 - lr 0.200000\n"
     ]
    },
    {
     "name": "stderr",
     "output_type": "stream",
     "text": [
      "100%|██████████| 4/4 [00:02<00:00,  1.49it/s]"
     ]
    },
    {
     "name": "stdout",
     "output_type": "stream",
     "text": [
      "2023-10-07 17:46:28,140 Evaluating as a multi-label problem: False\n",
      "2023-10-07 17:46:28,158 DEV : loss 9.036890347147164e-09 - f1-score (micro avg)  0.0\n",
      "2023-10-07 17:46:28,182 BAD EPOCHS (no improvement): 0\n",
      "2023-10-07 17:46:28,186 saving best model\n"
     ]
    },
    {
     "name": "stderr",
     "output_type": "stream",
     "text": [
      "\n"
     ]
    },
    {
     "name": "stdout",
     "output_type": "stream",
     "text": [
      "2023-10-07 17:46:29,277 ----------------------------------------------------------------------------------------------------\n",
      "2023-10-07 17:46:30,788 epoch 2 - iter 1/19 - loss 0.00000000 - time (sec): 1.51 - samples/sec: 636.17 - lr: 0.200000\n",
      "2023-10-07 17:46:31,790 epoch 2 - iter 2/19 - loss 0.00000001 - time (sec): 2.51 - samples/sec: 770.25 - lr: 0.200000\n",
      "2023-10-07 17:46:32,677 epoch 2 - iter 3/19 - loss 0.00000001 - time (sec): 3.40 - samples/sec: 813.88 - lr: 0.200000\n",
      "2023-10-07 17:46:33,763 epoch 2 - iter 4/19 - loss 0.00000001 - time (sec): 4.48 - samples/sec: 833.31 - lr: 0.200000\n",
      "2023-10-07 17:46:35,063 epoch 2 - iter 5/19 - loss 0.00000001 - time (sec): 5.78 - samples/sec: 836.09 - lr: 0.200000\n",
      "2023-10-07 17:46:35,942 epoch 2 - iter 6/19 - loss 0.00000001 - time (sec): 6.66 - samples/sec: 847.50 - lr: 0.200000\n",
      "2023-10-07 17:46:37,080 epoch 2 - iter 7/19 - loss 0.00000000 - time (sec): 7.80 - samples/sec: 847.54 - lr: 0.200000\n",
      "2023-10-07 17:46:38,159 epoch 2 - iter 8/19 - loss 0.00000000 - time (sec): 8.88 - samples/sec: 847.33 - lr: 0.200000\n",
      "2023-10-07 17:46:39,144 epoch 2 - iter 9/19 - loss 0.00000000 - time (sec): 9.87 - samples/sec: 852.56 - lr: 0.200000\n",
      "2023-10-07 17:46:40,179 epoch 2 - iter 10/19 - loss 0.00000000 - time (sec): 10.90 - samples/sec: 855.88 - lr: 0.200000\n",
      "2023-10-07 17:46:41,244 epoch 2 - iter 11/19 - loss 0.00000000 - time (sec): 11.97 - samples/sec: 857.65 - lr: 0.200000\n",
      "2023-10-07 17:46:42,170 epoch 2 - iter 12/19 - loss 0.00000000 - time (sec): 12.89 - samples/sec: 864.54 - lr: 0.200000\n",
      "2023-10-07 17:46:43,107 epoch 2 - iter 13/19 - loss 0.00000000 - time (sec): 13.83 - samples/sec: 868.04 - lr: 0.200000\n",
      "2023-10-07 17:46:44,098 epoch 2 - iter 14/19 - loss 0.00000000 - time (sec): 14.82 - samples/sec: 868.19 - lr: 0.200000\n",
      "2023-10-07 17:46:45,093 epoch 2 - iter 15/19 - loss 0.00000000 - time (sec): 15.81 - samples/sec: 871.89 - lr: 0.200000\n",
      "2023-10-07 17:46:46,104 epoch 2 - iter 16/19 - loss 0.00000000 - time (sec): 16.83 - samples/sec: 877.86 - lr: 0.200000\n",
      "2023-10-07 17:46:47,076 epoch 2 - iter 17/19 - loss 0.00000000 - time (sec): 17.80 - samples/sec: 879.16 - lr: 0.200000\n",
      "2023-10-07 17:46:47,977 epoch 2 - iter 18/19 - loss 0.00000000 - time (sec): 18.70 - samples/sec: 879.03 - lr: 0.200000\n",
      "2023-10-07 17:46:48,237 epoch 2 - iter 19/19 - loss 0.00000000 - time (sec): 18.96 - samples/sec: 877.83 - lr: 0.200000\n",
      "2023-10-07 17:46:48,239 ----------------------------------------------------------------------------------------------------\n",
      "2023-10-07 17:46:48,240 EPOCH 2 done: loss 0.0000 - lr 0.200000\n"
     ]
    },
    {
     "name": "stderr",
     "output_type": "stream",
     "text": [
      "100%|██████████| 4/4 [00:02<00:00,  1.52it/s]"
     ]
    },
    {
     "name": "stdout",
     "output_type": "stream",
     "text": [
      "2023-10-07 17:46:50,885 Evaluating as a multi-label problem: False\n",
      "2023-10-07 17:46:50,905 DEV : loss 9.036890347147164e-09 - f1-score (micro avg)  0.0\n",
      "2023-10-07 17:46:50,927 BAD EPOCHS (no improvement): 1\n",
      "2023-10-07 17:46:50,929 ----------------------------------------------------------------------------------------------------\n"
     ]
    },
    {
     "name": "stderr",
     "output_type": "stream",
     "text": [
      "\n"
     ]
    },
    {
     "name": "stdout",
     "output_type": "stream",
     "text": [
      "2023-10-07 17:46:52,082 epoch 3 - iter 1/19 - loss 0.00000002 - time (sec): 1.15 - samples/sec: 820.07 - lr: 0.200000\n",
      "2023-10-07 17:46:52,996 epoch 3 - iter 2/19 - loss 0.00000001 - time (sec): 2.07 - samples/sec: 866.28 - lr: 0.200000\n",
      "2023-10-07 17:46:54,067 epoch 3 - iter 3/19 - loss 0.00000002 - time (sec): 3.14 - samples/sec: 879.13 - lr: 0.200000\n",
      "2023-10-07 17:46:55,069 epoch 3 - iter 4/19 - loss 0.00000001 - time (sec): 4.14 - samples/sec: 887.89 - lr: 0.200000\n",
      "2023-10-07 17:46:55,965 epoch 3 - iter 5/19 - loss 0.00000001 - time (sec): 5.04 - samples/sec: 900.86 - lr: 0.200000\n",
      "2023-10-07 17:46:57,099 epoch 3 - iter 6/19 - loss 0.00000001 - time (sec): 6.17 - samples/sec: 870.48 - lr: 0.200000\n",
      "2023-10-07 17:46:58,313 epoch 3 - iter 7/19 - loss 0.00000000 - time (sec): 7.38 - samples/sec: 855.18 - lr: 0.200000\n",
      "2023-10-07 17:46:59,465 epoch 3 - iter 8/19 - loss 0.00000001 - time (sec): 8.54 - samples/sec: 855.38 - lr: 0.200000\n",
      "2023-10-07 17:47:00,728 epoch 3 - iter 9/19 - loss 0.00000001 - time (sec): 9.80 - samples/sec: 843.99 - lr: 0.200000\n",
      "2023-10-07 17:47:01,674 epoch 3 - iter 10/19 - loss 0.00000001 - time (sec): 10.74 - samples/sec: 850.56 - lr: 0.200000\n",
      "2023-10-07 17:47:02,595 epoch 3 - iter 11/19 - loss 0.00000000 - time (sec): 11.67 - samples/sec: 857.76 - lr: 0.200000\n",
      "2023-10-07 17:47:03,560 epoch 3 - iter 12/19 - loss 0.00000000 - time (sec): 12.63 - samples/sec: 857.07 - lr: 0.200000\n",
      "2023-10-07 17:47:04,841 epoch 3 - iter 13/19 - loss 0.00000000 - time (sec): 13.91 - samples/sec: 851.53 - lr: 0.200000\n",
      "2023-10-07 17:47:05,807 epoch 3 - iter 14/19 - loss 0.00000000 - time (sec): 14.88 - samples/sec: 855.81 - lr: 0.200000\n",
      "2023-10-07 17:47:06,743 epoch 3 - iter 15/19 - loss -0.00000000 - time (sec): 15.81 - samples/sec: 860.48 - lr: 0.200000\n",
      "2023-10-07 17:47:07,915 epoch 3 - iter 16/19 - loss 0.00000000 - time (sec): 16.98 - samples/sec: 858.66 - lr: 0.200000\n",
      "2023-10-07 17:47:08,894 epoch 3 - iter 17/19 - loss 0.00000000 - time (sec): 17.96 - samples/sec: 862.96 - lr: 0.200000\n",
      "2023-10-07 17:47:09,882 epoch 3 - iter 18/19 - loss 0.00000000 - time (sec): 18.95 - samples/sec: 866.60 - lr: 0.200000\n",
      "2023-10-07 17:47:10,162 epoch 3 - iter 19/19 - loss 0.00000000 - time (sec): 19.23 - samples/sec: 865.33 - lr: 0.200000\n",
      "2023-10-07 17:47:10,163 ----------------------------------------------------------------------------------------------------\n",
      "2023-10-07 17:47:10,164 EPOCH 3 done: loss 0.0000 - lr 0.200000\n"
     ]
    },
    {
     "name": "stderr",
     "output_type": "stream",
     "text": [
      "100%|██████████| 4/4 [00:02<00:00,  1.50it/s]"
     ]
    },
    {
     "name": "stdout",
     "output_type": "stream",
     "text": [
      "2023-10-07 17:47:12,842 Evaluating as a multi-label problem: False\n",
      "2023-10-07 17:47:12,860 DEV : loss 9.036890347147164e-09 - f1-score (micro avg)  0.0\n",
      "2023-10-07 17:47:12,883 BAD EPOCHS (no improvement): 2\n",
      "2023-10-07 17:47:12,888 ----------------------------------------------------------------------------------------------------\n"
     ]
    },
    {
     "name": "stderr",
     "output_type": "stream",
     "text": [
      "\n"
     ]
    },
    {
     "name": "stdout",
     "output_type": "stream",
     "text": [
      "2023-10-07 17:47:13,961 epoch 4 - iter 1/19 - loss 0.00000001 - time (sec): 1.07 - samples/sec: 963.08 - lr: 0.200000\n",
      "2023-10-07 17:47:15,111 epoch 4 - iter 2/19 - loss -0.00000001 - time (sec): 2.22 - samples/sec: 909.93 - lr: 0.200000\n",
      "2023-10-07 17:47:16,174 epoch 4 - iter 3/19 - loss -0.00000001 - time (sec): 3.28 - samples/sec: 892.06 - lr: 0.200000\n",
      "2023-10-07 17:47:17,480 epoch 4 - iter 4/19 - loss -0.00000000 - time (sec): 4.59 - samples/sec: 866.43 - lr: 0.200000\n",
      "2023-10-07 17:47:18,599 epoch 4 - iter 5/19 - loss 0.00000000 - time (sec): 5.71 - samples/sec: 866.76 - lr: 0.200000\n",
      "2023-10-07 17:47:19,629 epoch 4 - iter 6/19 - loss 0.00000000 - time (sec): 6.74 - samples/sec: 868.88 - lr: 0.200000\n",
      "2023-10-07 17:47:20,636 epoch 4 - iter 7/19 - loss -0.00000000 - time (sec): 7.75 - samples/sec: 878.12 - lr: 0.200000\n",
      "2023-10-07 17:47:21,523 epoch 4 - iter 8/19 - loss -0.00000000 - time (sec): 8.63 - samples/sec: 874.96 - lr: 0.200000\n",
      "2023-10-07 17:47:22,421 epoch 4 - iter 9/19 - loss -0.00000000 - time (sec): 9.53 - samples/sec: 876.89 - lr: 0.200000\n",
      "2023-10-07 17:47:23,381 epoch 4 - iter 10/19 - loss 0.00000000 - time (sec): 10.49 - samples/sec: 876.35 - lr: 0.200000\n",
      "2023-10-07 17:47:24,316 epoch 4 - iter 11/19 - loss 0.00000000 - time (sec): 11.43 - samples/sec: 876.84 - lr: 0.200000\n",
      "2023-10-07 17:47:25,377 epoch 4 - iter 12/19 - loss 0.00000000 - time (sec): 12.49 - samples/sec: 874.91 - lr: 0.200000\n",
      "2023-10-07 17:47:26,511 epoch 4 - iter 13/19 - loss 0.00000000 - time (sec): 13.62 - samples/sec: 881.39 - lr: 0.200000\n",
      "2023-10-07 17:47:27,432 epoch 4 - iter 14/19 - loss 0.00000001 - time (sec): 14.54 - samples/sec: 887.27 - lr: 0.200000\n",
      "2023-10-07 17:47:28,381 epoch 4 - iter 15/19 - loss 0.00000000 - time (sec): 15.49 - samples/sec: 887.48 - lr: 0.200000\n",
      "2023-10-07 17:47:29,476 epoch 4 - iter 16/19 - loss 0.00000000 - time (sec): 16.59 - samples/sec: 888.40 - lr: 0.200000\n",
      "2023-10-07 17:47:30,410 epoch 4 - iter 17/19 - loss 0.00000000 - time (sec): 17.52 - samples/sec: 888.41 - lr: 0.200000\n",
      "2023-10-07 17:47:31,349 epoch 4 - iter 18/19 - loss 0.00000000 - time (sec): 18.46 - samples/sec: 889.27 - lr: 0.200000\n",
      "2023-10-07 17:47:31,676 epoch 4 - iter 19/19 - loss 0.00000000 - time (sec): 18.79 - samples/sec: 885.84 - lr: 0.200000\n",
      "2023-10-07 17:47:31,679 ----------------------------------------------------------------------------------------------------\n",
      "2023-10-07 17:47:31,680 EPOCH 4 done: loss 0.0000 - lr 0.200000\n"
     ]
    },
    {
     "name": "stderr",
     "output_type": "stream",
     "text": [
      "100%|██████████| 4/4 [00:02<00:00,  1.53it/s]"
     ]
    },
    {
     "name": "stdout",
     "output_type": "stream",
     "text": [
      "2023-10-07 17:47:34,300 Evaluating as a multi-label problem: False\n",
      "2023-10-07 17:47:34,319 DEV : loss 9.036890347147164e-09 - f1-score (micro avg)  0.0\n",
      "2023-10-07 17:47:34,367 BAD EPOCHS (no improvement): 3\n",
      "2023-10-07 17:47:34,377 ----------------------------------------------------------------------------------------------------\n"
     ]
    },
    {
     "name": "stderr",
     "output_type": "stream",
     "text": [
      "\n"
     ]
    },
    {
     "name": "stdout",
     "output_type": "stream",
     "text": [
      "2023-10-07 17:47:35,523 epoch 5 - iter 1/19 - loss -0.00000002 - time (sec): 1.14 - samples/sec: 876.20 - lr: 0.200000\n",
      "2023-10-07 17:47:36,483 epoch 5 - iter 2/19 - loss 0.00000001 - time (sec): 2.10 - samples/sec: 909.28 - lr: 0.200000\n",
      "2023-10-07 17:47:37,359 epoch 5 - iter 3/19 - loss 0.00000001 - time (sec): 2.98 - samples/sec: 919.29 - lr: 0.200000\n",
      "2023-10-07 17:47:38,408 epoch 5 - iter 4/19 - loss 0.00000000 - time (sec): 4.03 - samples/sec: 896.59 - lr: 0.200000\n",
      "2023-10-07 17:47:39,360 epoch 5 - iter 5/19 - loss 0.00000000 - time (sec): 4.98 - samples/sec: 897.18 - lr: 0.200000\n",
      "2023-10-07 17:47:40,315 epoch 5 - iter 6/19 - loss 0.00000001 - time (sec): 5.94 - samples/sec: 890.03 - lr: 0.200000\n",
      "2023-10-07 17:47:41,464 epoch 5 - iter 7/19 - loss 0.00000000 - time (sec): 7.09 - samples/sec: 883.89 - lr: 0.200000\n",
      "2023-10-07 17:47:42,557 epoch 5 - iter 8/19 - loss 0.00000000 - time (sec): 8.18 - samples/sec: 880.45 - lr: 0.200000\n",
      "2023-10-07 17:47:43,820 epoch 5 - iter 9/19 - loss -0.00000000 - time (sec): 9.44 - samples/sec: 873.69 - lr: 0.200000\n",
      "2023-10-07 17:47:44,790 epoch 5 - iter 10/19 - loss -0.00000000 - time (sec): 10.41 - samples/sec: 875.74 - lr: 0.200000\n",
      "2023-10-07 17:47:45,799 epoch 5 - iter 11/19 - loss -0.00000000 - time (sec): 11.42 - samples/sec: 881.27 - lr: 0.200000\n",
      "2023-10-07 17:47:46,858 epoch 5 - iter 12/19 - loss -0.00000000 - time (sec): 12.48 - samples/sec: 886.20 - lr: 0.200000\n",
      "2023-10-07 17:47:47,700 epoch 5 - iter 13/19 - loss -0.00000000 - time (sec): 13.32 - samples/sec: 888.91 - lr: 0.200000\n",
      "2023-10-07 17:47:48,758 epoch 5 - iter 14/19 - loss -0.00000000 - time (sec): 14.38 - samples/sec: 890.21 - lr: 0.200000\n",
      "2023-10-07 17:47:49,653 epoch 5 - iter 15/19 - loss -0.00000000 - time (sec): 15.28 - samples/sec: 894.46 - lr: 0.200000\n",
      "2023-10-07 17:47:50,698 epoch 5 - iter 16/19 - loss -0.00000000 - time (sec): 16.32 - samples/sec: 899.28 - lr: 0.200000\n",
      "2023-10-07 17:47:51,695 epoch 5 - iter 17/19 - loss -0.00000000 - time (sec): 17.32 - samples/sec: 902.45 - lr: 0.200000\n",
      "2023-10-07 17:47:52,684 epoch 5 - iter 18/19 - loss -0.00000000 - time (sec): 18.31 - samples/sec: 900.95 - lr: 0.200000\n",
      "2023-10-07 17:47:52,884 epoch 5 - iter 19/19 - loss -0.00000000 - time (sec): 18.51 - samples/sec: 899.29 - lr: 0.200000\n",
      "2023-10-07 17:47:52,887 ----------------------------------------------------------------------------------------------------\n",
      "2023-10-07 17:47:52,889 EPOCH 5 done: loss -0.0000 - lr 0.200000\n"
     ]
    },
    {
     "name": "stderr",
     "output_type": "stream",
     "text": [
      "100%|██████████| 4/4 [00:02<00:00,  1.51it/s]"
     ]
    },
    {
     "name": "stdout",
     "output_type": "stream",
     "text": [
      "2023-10-07 17:47:55,537 Evaluating as a multi-label problem: False\n",
      "2023-10-07 17:47:55,557 DEV : loss 9.036890347147164e-09 - f1-score (micro avg)  0.0\n",
      "2023-10-07 17:47:55,581 Epoch     5: reducing learning rate of group 0 to 1.0000e-01.\n",
      "2023-10-07 17:47:55,584 BAD EPOCHS (no improvement): 4\n",
      "2023-10-07 17:47:55,586 ----------------------------------------------------------------------------------------------------\n"
     ]
    },
    {
     "name": "stderr",
     "output_type": "stream",
     "text": [
      "\n"
     ]
    },
    {
     "name": "stdout",
     "output_type": "stream",
     "text": [
      "2023-10-07 17:47:56,560 epoch 6 - iter 1/19 - loss 0.00000002 - time (sec): 0.97 - samples/sec: 884.08 - lr: 0.100000\n",
      "2023-10-07 17:47:57,437 epoch 6 - iter 2/19 - loss 0.00000000 - time (sec): 1.85 - samples/sec: 885.68 - lr: 0.100000\n",
      "2023-10-07 17:47:58,378 epoch 6 - iter 3/19 - loss 0.00000000 - time (sec): 2.79 - samples/sec: 900.64 - lr: 0.100000\n",
      "2023-10-07 17:47:59,294 epoch 6 - iter 4/19 - loss -0.00000001 - time (sec): 3.71 - samples/sec: 905.35 - lr: 0.100000\n",
      "2023-10-07 17:48:00,277 epoch 6 - iter 5/19 - loss -0.00000001 - time (sec): 4.69 - samples/sec: 900.08 - lr: 0.100000\n",
      "2023-10-07 17:48:01,274 epoch 6 - iter 6/19 - loss -0.00000001 - time (sec): 5.69 - samples/sec: 912.17 - lr: 0.100000\n",
      "2023-10-07 17:48:02,519 epoch 6 - iter 7/19 - loss -0.00000000 - time (sec): 6.93 - samples/sec: 889.25 - lr: 0.100000\n",
      "2023-10-07 17:48:03,564 epoch 6 - iter 8/19 - loss -0.00000000 - time (sec): 7.98 - samples/sec: 880.19 - lr: 0.100000\n",
      "2023-10-07 17:48:04,641 epoch 6 - iter 9/19 - loss -0.00000000 - time (sec): 9.05 - samples/sec: 875.80 - lr: 0.100000\n",
      "2023-10-07 17:48:05,796 epoch 6 - iter 10/19 - loss -0.00000000 - time (sec): 10.21 - samples/sec: 862.86 - lr: 0.100000\n",
      "2023-10-07 17:48:06,931 epoch 6 - iter 11/19 - loss -0.00000000 - time (sec): 11.34 - samples/sec: 858.40 - lr: 0.100000\n",
      "2023-10-07 17:48:08,238 epoch 6 - iter 12/19 - loss -0.00000000 - time (sec): 12.65 - samples/sec: 857.65 - lr: 0.100000\n",
      "2023-10-07 17:48:09,207 epoch 6 - iter 13/19 - loss -0.00000000 - time (sec): 13.62 - samples/sec: 860.41 - lr: 0.100000\n",
      "2023-10-07 17:48:10,191 epoch 6 - iter 14/19 - loss -0.00000000 - time (sec): 14.60 - samples/sec: 865.44 - lr: 0.100000\n",
      "2023-10-07 17:48:11,247 epoch 6 - iter 15/19 - loss -0.00000000 - time (sec): 15.66 - samples/sec: 871.47 - lr: 0.100000\n",
      "2023-10-07 17:48:12,214 epoch 6 - iter 16/19 - loss -0.00000000 - time (sec): 16.63 - samples/sec: 873.97 - lr: 0.100000\n",
      "2023-10-07 17:48:13,383 epoch 6 - iter 17/19 - loss 0.00000000 - time (sec): 17.80 - samples/sec: 872.96 - lr: 0.100000\n",
      "2023-10-07 17:48:14,410 epoch 6 - iter 18/19 - loss -0.00000000 - time (sec): 18.82 - samples/sec: 875.77 - lr: 0.100000\n",
      "2023-10-07 17:48:14,656 epoch 6 - iter 19/19 - loss -0.00000000 - time (sec): 19.07 - samples/sec: 872.73 - lr: 0.100000\n",
      "2023-10-07 17:48:14,659 ----------------------------------------------------------------------------------------------------\n",
      "2023-10-07 17:48:14,660 EPOCH 6 done: loss -0.0000 - lr 0.100000\n"
     ]
    },
    {
     "name": "stderr",
     "output_type": "stream",
     "text": [
      "100%|██████████| 4/4 [00:02<00:00,  1.60it/s]"
     ]
    },
    {
     "name": "stdout",
     "output_type": "stream",
     "text": [
      "2023-10-07 17:48:17,167 Evaluating as a multi-label problem: False\n",
      "2023-10-07 17:48:17,185 DEV : loss 9.036890347147164e-09 - f1-score (micro avg)  0.0\n",
      "2023-10-07 17:48:17,210 BAD EPOCHS (no improvement): 1\n",
      "2023-10-07 17:48:17,214 ----------------------------------------------------------------------------------------------------\n"
     ]
    },
    {
     "name": "stderr",
     "output_type": "stream",
     "text": [
      "\n"
     ]
    },
    {
     "name": "stdout",
     "output_type": "stream",
     "text": [
      "2023-10-07 17:48:18,202 epoch 7 - iter 1/19 - loss 0.00000003 - time (sec): 0.99 - samples/sec: 900.30 - lr: 0.100000\n",
      "2023-10-07 17:48:19,219 epoch 7 - iter 2/19 - loss 0.00000001 - time (sec): 2.00 - samples/sec: 878.07 - lr: 0.100000\n",
      "2023-10-07 17:48:20,214 epoch 7 - iter 3/19 - loss 0.00000001 - time (sec): 3.00 - samples/sec: 900.76 - lr: 0.100000\n",
      "2023-10-07 17:48:21,245 epoch 7 - iter 4/19 - loss 0.00000001 - time (sec): 4.03 - samples/sec: 907.15 - lr: 0.100000\n",
      "2023-10-07 17:48:22,266 epoch 7 - iter 5/19 - loss 0.00000001 - time (sec): 5.05 - samples/sec: 896.49 - lr: 0.100000\n",
      "2023-10-07 17:48:23,665 epoch 7 - iter 6/19 - loss 0.00000001 - time (sec): 6.45 - samples/sec: 861.99 - lr: 0.100000\n",
      "2023-10-07 17:48:24,695 epoch 7 - iter 7/19 - loss 0.00000001 - time (sec): 7.48 - samples/sec: 870.84 - lr: 0.100000\n",
      "2023-10-07 17:48:25,799 epoch 7 - iter 8/19 - loss 0.00000001 - time (sec): 8.58 - samples/sec: 871.50 - lr: 0.100000\n",
      "2023-10-07 17:48:26,791 epoch 7 - iter 9/19 - loss 0.00000001 - time (sec): 9.58 - samples/sec: 874.02 - lr: 0.100000\n",
      "2023-10-07 17:48:27,764 epoch 7 - iter 10/19 - loss 0.00000001 - time (sec): 10.55 - samples/sec: 877.56 - lr: 0.100000\n",
      "2023-10-07 17:48:28,695 epoch 7 - iter 11/19 - loss 0.00000001 - time (sec): 11.48 - samples/sec: 881.58 - lr: 0.100000\n",
      "2023-10-07 17:48:29,660 epoch 7 - iter 12/19 - loss 0.00000001 - time (sec): 12.45 - samples/sec: 882.55 - lr: 0.100000\n",
      "2023-10-07 17:48:30,758 epoch 7 - iter 13/19 - loss 0.00000001 - time (sec): 13.54 - samples/sec: 885.47 - lr: 0.100000\n",
      "2023-10-07 17:48:31,978 epoch 7 - iter 14/19 - loss 0.00000001 - time (sec): 14.76 - samples/sec: 876.45 - lr: 0.100000\n",
      "2023-10-07 17:48:32,950 epoch 7 - iter 15/19 - loss 0.00000001 - time (sec): 15.74 - samples/sec: 878.42 - lr: 0.100000\n",
      "2023-10-07 17:48:33,871 epoch 7 - iter 16/19 - loss 0.00000001 - time (sec): 16.66 - samples/sec: 879.88 - lr: 0.100000\n",
      "2023-10-07 17:48:34,914 epoch 7 - iter 17/19 - loss 0.00000000 - time (sec): 17.70 - samples/sec: 882.92 - lr: 0.100000\n",
      "2023-10-07 17:48:35,804 epoch 7 - iter 18/19 - loss 0.00000001 - time (sec): 18.59 - samples/sec: 885.01 - lr: 0.100000\n",
      "2023-10-07 17:48:36,077 epoch 7 - iter 19/19 - loss 0.00000001 - time (sec): 18.86 - samples/sec: 882.29 - lr: 0.100000\n",
      "2023-10-07 17:48:36,079 ----------------------------------------------------------------------------------------------------\n",
      "2023-10-07 17:48:36,080 EPOCH 7 done: loss 0.0000 - lr 0.100000\n"
     ]
    },
    {
     "name": "stderr",
     "output_type": "stream",
     "text": [
      "100%|██████████| 4/4 [00:02<00:00,  1.47it/s]"
     ]
    },
    {
     "name": "stdout",
     "output_type": "stream",
     "text": [
      "2023-10-07 17:48:38,800 Evaluating as a multi-label problem: False\n",
      "2023-10-07 17:48:38,818 DEV : loss 9.036890347147164e-09 - f1-score (micro avg)  0.0\n",
      "2023-10-07 17:48:38,843 BAD EPOCHS (no improvement): 2\n",
      "2023-10-07 17:48:38,847 ----------------------------------------------------------------------------------------------------\n"
     ]
    },
    {
     "name": "stderr",
     "output_type": "stream",
     "text": [
      "\n"
     ]
    },
    {
     "name": "stdout",
     "output_type": "stream",
     "text": [
      "2023-10-07 17:48:40,252 epoch 8 - iter 1/19 - loss -0.00000003 - time (sec): 1.40 - samples/sec: 784.83 - lr: 0.100000\n",
      "2023-10-07 17:48:41,251 epoch 8 - iter 2/19 - loss -0.00000002 - time (sec): 2.40 - samples/sec: 838.39 - lr: 0.100000\n",
      "2023-10-07 17:48:42,313 epoch 8 - iter 3/19 - loss -0.00000002 - time (sec): 3.46 - samples/sec: 865.28 - lr: 0.100000\n",
      "2023-10-07 17:48:43,386 epoch 8 - iter 4/19 - loss -0.00000001 - time (sec): 4.54 - samples/sec: 856.76 - lr: 0.100000\n",
      "2023-10-07 17:48:44,490 epoch 8 - iter 5/19 - loss -0.00000001 - time (sec): 5.64 - samples/sec: 856.83 - lr: 0.100000\n",
      "2023-10-07 17:48:45,485 epoch 8 - iter 6/19 - loss -0.00000000 - time (sec): 6.64 - samples/sec: 863.12 - lr: 0.100000\n",
      "2023-10-07 17:48:46,445 epoch 8 - iter 7/19 - loss -0.00000000 - time (sec): 7.60 - samples/sec: 864.25 - lr: 0.100000\n",
      "2023-10-07 17:48:47,430 epoch 8 - iter 8/19 - loss -0.00000000 - time (sec): 8.58 - samples/sec: 865.94 - lr: 0.100000\n",
      "2023-10-07 17:48:48,373 epoch 8 - iter 9/19 - loss -0.00000000 - time (sec): 9.53 - samples/sec: 871.97 - lr: 0.100000\n",
      "2023-10-07 17:48:49,432 epoch 8 - iter 10/19 - loss -0.00000001 - time (sec): 10.58 - samples/sec: 878.88 - lr: 0.100000\n",
      "2023-10-07 17:48:50,463 epoch 8 - iter 11/19 - loss -0.00000001 - time (sec): 11.62 - samples/sec: 879.08 - lr: 0.100000\n",
      "2023-10-07 17:48:51,434 epoch 8 - iter 12/19 - loss -0.00000001 - time (sec): 12.59 - samples/sec: 880.57 - lr: 0.100000\n",
      "2023-10-07 17:48:52,320 epoch 8 - iter 13/19 - loss -0.00000001 - time (sec): 13.47 - samples/sec: 881.05 - lr: 0.100000\n",
      "2023-10-07 17:48:53,609 epoch 8 - iter 14/19 - loss -0.00000000 - time (sec): 14.76 - samples/sec: 871.24 - lr: 0.100000\n",
      "2023-10-07 17:48:54,591 epoch 8 - iter 15/19 - loss -0.00000001 - time (sec): 15.74 - samples/sec: 872.26 - lr: 0.100000\n",
      "2023-10-07 17:48:55,473 epoch 8 - iter 16/19 - loss -0.00000001 - time (sec): 16.63 - samples/sec: 876.20 - lr: 0.100000\n",
      "2023-10-07 17:48:56,467 epoch 8 - iter 17/19 - loss -0.00000000 - time (sec): 17.62 - samples/sec: 875.75 - lr: 0.100000\n",
      "2023-10-07 17:48:57,665 epoch 8 - iter 18/19 - loss -0.00000000 - time (sec): 18.82 - samples/sec: 875.07 - lr: 0.100000\n",
      "2023-10-07 17:48:57,916 epoch 8 - iter 19/19 - loss -0.00000000 - time (sec): 19.07 - samples/sec: 872.78 - lr: 0.100000\n",
      "2023-10-07 17:48:57,917 ----------------------------------------------------------------------------------------------------\n",
      "2023-10-07 17:48:57,918 EPOCH 8 done: loss -0.0000 - lr 0.100000\n"
     ]
    },
    {
     "name": "stderr",
     "output_type": "stream",
     "text": [
      "100%|██████████| 4/4 [00:02<00:00,  1.47it/s]"
     ]
    },
    {
     "name": "stdout",
     "output_type": "stream",
     "text": [
      "2023-10-07 17:49:00,648 Evaluating as a multi-label problem: False\n",
      "2023-10-07 17:49:00,667 DEV : loss 9.036890347147164e-09 - f1-score (micro avg)  0.0\n",
      "2023-10-07 17:49:00,691 BAD EPOCHS (no improvement): 3\n",
      "2023-10-07 17:49:00,695 ----------------------------------------------------------------------------------------------------\n"
     ]
    },
    {
     "name": "stderr",
     "output_type": "stream",
     "text": [
      "\n"
     ]
    },
    {
     "name": "stdout",
     "output_type": "stream",
     "text": [
      "2023-10-07 17:49:01,718 epoch 9 - iter 1/19 - loss 0.00000000 - time (sec): 1.02 - samples/sec: 909.83 - lr: 0.100000\n",
      "2023-10-07 17:49:02,668 epoch 9 - iter 2/19 - loss -0.00000001 - time (sec): 1.97 - samples/sec: 919.87 - lr: 0.100000\n",
      "2023-10-07 17:49:03,683 epoch 9 - iter 3/19 - loss -0.00000001 - time (sec): 2.99 - samples/sec: 900.56 - lr: 0.100000\n",
      "2023-10-07 17:49:04,509 epoch 9 - iter 4/19 - loss -0.00000000 - time (sec): 3.81 - samples/sec: 901.12 - lr: 0.100000\n",
      "2023-10-07 17:49:05,399 epoch 9 - iter 5/19 - loss 0.00000000 - time (sec): 4.70 - samples/sec: 904.41 - lr: 0.100000\n",
      "2023-10-07 17:49:06,355 epoch 9 - iter 6/19 - loss 0.00000000 - time (sec): 5.66 - samples/sec: 903.76 - lr: 0.100000\n",
      "2023-10-07 17:49:07,499 epoch 9 - iter 7/19 - loss 0.00000000 - time (sec): 6.80 - samples/sec: 891.80 - lr: 0.100000\n",
      "2023-10-07 17:49:08,650 epoch 9 - iter 8/19 - loss 0.00000000 - time (sec): 7.95 - samples/sec: 896.32 - lr: 0.100000\n",
      "2023-10-07 17:49:10,000 epoch 9 - iter 9/19 - loss -0.00000001 - time (sec): 9.30 - samples/sec: 876.91 - lr: 0.100000\n",
      "2023-10-07 17:49:10,972 epoch 9 - iter 10/19 - loss -0.00000001 - time (sec): 10.28 - samples/sec: 873.86 - lr: 0.100000\n",
      "2023-10-07 17:49:12,095 epoch 9 - iter 11/19 - loss -0.00000000 - time (sec): 11.40 - samples/sec: 875.19 - lr: 0.100000\n",
      "2023-10-07 17:49:13,077 epoch 9 - iter 12/19 - loss -0.00000000 - time (sec): 12.38 - samples/sec: 876.69 - lr: 0.100000\n",
      "2023-10-07 17:49:14,238 epoch 9 - iter 13/19 - loss -0.00000000 - time (sec): 13.54 - samples/sec: 872.30 - lr: 0.100000\n",
      "2023-10-07 17:49:15,128 epoch 9 - iter 14/19 - loss -0.00000000 - time (sec): 14.43 - samples/sec: 873.28 - lr: 0.100000\n",
      "2023-10-07 17:49:16,219 epoch 9 - iter 15/19 - loss -0.00000000 - time (sec): 15.52 - samples/sec: 874.69 - lr: 0.100000\n",
      "2023-10-07 17:49:17,534 epoch 9 - iter 16/19 - loss -0.00000000 - time (sec): 16.84 - samples/sec: 871.03 - lr: 0.100000\n",
      "2023-10-07 17:49:18,500 epoch 9 - iter 17/19 - loss -0.00000000 - time (sec): 17.80 - samples/sec: 874.03 - lr: 0.100000\n",
      "2023-10-07 17:49:19,485 epoch 9 - iter 18/19 - loss -0.00000000 - time (sec): 18.79 - samples/sec: 875.89 - lr: 0.100000\n",
      "2023-10-07 17:49:19,729 epoch 9 - iter 19/19 - loss -0.00000000 - time (sec): 19.03 - samples/sec: 874.37 - lr: 0.100000\n",
      "2023-10-07 17:49:19,731 ----------------------------------------------------------------------------------------------------\n",
      "2023-10-07 17:49:19,733 EPOCH 9 done: loss -0.0000 - lr 0.100000\n"
     ]
    },
    {
     "name": "stderr",
     "output_type": "stream",
     "text": [
      "100%|██████████| 4/4 [00:02<00:00,  1.54it/s]"
     ]
    },
    {
     "name": "stdout",
     "output_type": "stream",
     "text": [
      "2023-10-07 17:49:22,333 Evaluating as a multi-label problem: False\n",
      "2023-10-07 17:49:22,351 DEV : loss 9.036890347147164e-09 - f1-score (micro avg)  0.0\n",
      "2023-10-07 17:49:22,377 Epoch     9: reducing learning rate of group 0 to 5.0000e-02.\n",
      "2023-10-07 17:49:22,381 BAD EPOCHS (no improvement): 4\n",
      "2023-10-07 17:49:22,382 ----------------------------------------------------------------------------------------------------\n"
     ]
    },
    {
     "name": "stderr",
     "output_type": "stream",
     "text": [
      "\n"
     ]
    },
    {
     "name": "stdout",
     "output_type": "stream",
     "text": [
      "2023-10-07 17:49:23,331 epoch 10 - iter 1/19 - loss 0.00000002 - time (sec): 0.95 - samples/sec: 920.62 - lr: 0.050000\n",
      "2023-10-07 17:49:24,454 epoch 10 - iter 2/19 - loss 0.00000000 - time (sec): 2.07 - samples/sec: 901.47 - lr: 0.050000\n",
      "2023-10-07 17:49:25,466 epoch 10 - iter 3/19 - loss 0.00000000 - time (sec): 3.08 - samples/sec: 913.42 - lr: 0.050000\n",
      "2023-10-07 17:49:26,543 epoch 10 - iter 4/19 - loss 0.00000000 - time (sec): 4.16 - samples/sec: 919.14 - lr: 0.050000\n",
      "2023-10-07 17:49:27,382 epoch 10 - iter 5/19 - loss -0.00000001 - time (sec): 5.00 - samples/sec: 907.71 - lr: 0.050000\n",
      "2023-10-07 17:49:28,301 epoch 10 - iter 6/19 - loss -0.00000001 - time (sec): 5.92 - samples/sec: 901.68 - lr: 0.050000\n",
      "2023-10-07 17:49:29,268 epoch 10 - iter 7/19 - loss -0.00000000 - time (sec): 6.89 - samples/sec: 907.02 - lr: 0.050000\n",
      "2023-10-07 17:49:30,199 epoch 10 - iter 8/19 - loss -0.00000000 - time (sec): 7.82 - samples/sec: 905.99 - lr: 0.050000\n",
      "2023-10-07 17:49:31,212 epoch 10 - iter 9/19 - loss 0.00000000 - time (sec): 8.83 - samples/sec: 903.43 - lr: 0.050000\n",
      "2023-10-07 17:49:32,291 epoch 10 - iter 10/19 - loss 0.00000000 - time (sec): 9.91 - samples/sec: 899.97 - lr: 0.050000\n",
      "2023-10-07 17:49:33,333 epoch 10 - iter 11/19 - loss -0.00000000 - time (sec): 10.95 - samples/sec: 899.33 - lr: 0.050000\n",
      "2023-10-07 17:49:34,524 epoch 10 - iter 12/19 - loss 0.00000000 - time (sec): 12.14 - samples/sec: 893.58 - lr: 0.050000\n",
      "2023-10-07 17:49:35,460 epoch 10 - iter 13/19 - loss -0.00000000 - time (sec): 13.08 - samples/sec: 891.98 - lr: 0.050000\n",
      "2023-10-07 17:49:36,714 epoch 10 - iter 14/19 - loss -0.00000000 - time (sec): 14.33 - samples/sec: 881.85 - lr: 0.050000\n",
      "2023-10-07 17:49:37,812 epoch 10 - iter 15/19 - loss -0.00000000 - time (sec): 15.43 - samples/sec: 881.08 - lr: 0.050000\n",
      "2023-10-07 17:49:38,819 epoch 10 - iter 16/19 - loss -0.00000000 - time (sec): 16.44 - samples/sec: 878.02 - lr: 0.050000\n",
      "2023-10-07 17:49:40,039 epoch 10 - iter 17/19 - loss 0.00000000 - time (sec): 17.66 - samples/sec: 873.25 - lr: 0.050000\n",
      "2023-10-07 17:49:41,210 epoch 10 - iter 18/19 - loss 0.00000000 - time (sec): 18.83 - samples/sec: 870.96 - lr: 0.050000\n",
      "2023-10-07 17:49:41,556 epoch 10 - iter 19/19 - loss 0.00000000 - time (sec): 19.17 - samples/sec: 867.97 - lr: 0.050000\n",
      "2023-10-07 17:49:41,559 ----------------------------------------------------------------------------------------------------\n",
      "2023-10-07 17:49:41,560 EPOCH 10 done: loss 0.0000 - lr 0.050000\n"
     ]
    },
    {
     "name": "stderr",
     "output_type": "stream",
     "text": [
      "100%|██████████| 4/4 [00:03<00:00,  1.27it/s]"
     ]
    },
    {
     "name": "stdout",
     "output_type": "stream",
     "text": [
      "2023-10-07 17:49:44,715 Evaluating as a multi-label problem: False\n",
      "2023-10-07 17:49:44,741 DEV : loss 9.036890347147164e-09 - f1-score (micro avg)  0.0\n",
      "2023-10-07 17:49:44,788 BAD EPOCHS (no improvement): 1\n",
      "2023-10-07 17:49:44,793 ----------------------------------------------------------------------------------------------------\n"
     ]
    },
    {
     "name": "stderr",
     "output_type": "stream",
     "text": [
      "\n"
     ]
    },
    {
     "name": "stdout",
     "output_type": "stream",
     "text": [
      "2023-10-07 17:49:46,001 epoch 11 - iter 1/19 - loss 0.00000001 - time (sec): 1.21 - samples/sec: 870.58 - lr: 0.050000\n",
      "2023-10-07 17:49:47,074 epoch 11 - iter 2/19 - loss 0.00000001 - time (sec): 2.28 - samples/sec: 856.56 - lr: 0.050000\n",
      "2023-10-07 17:49:48,254 epoch 11 - iter 3/19 - loss 0.00000001 - time (sec): 3.46 - samples/sec: 831.30 - lr: 0.050000\n",
      "2023-10-07 17:49:49,445 epoch 11 - iter 4/19 - loss -0.00000000 - time (sec): 4.65 - samples/sec: 819.44 - lr: 0.050000\n",
      "2023-10-07 17:49:50,540 epoch 11 - iter 5/19 - loss -0.00000001 - time (sec): 5.75 - samples/sec: 824.80 - lr: 0.050000\n",
      "2023-10-07 17:49:51,538 epoch 11 - iter 6/19 - loss -0.00000001 - time (sec): 6.74 - samples/sec: 831.54 - lr: 0.050000\n",
      "2023-10-07 17:49:52,638 epoch 11 - iter 7/19 - loss -0.00000001 - time (sec): 7.84 - samples/sec: 814.58 - lr: 0.050000\n",
      "2023-10-07 17:49:53,651 epoch 11 - iter 8/19 - loss -0.00000001 - time (sec): 8.86 - samples/sec: 819.43 - lr: 0.050000\n",
      "2023-10-07 17:49:54,694 epoch 11 - iter 9/19 - loss -0.00000001 - time (sec): 9.90 - samples/sec: 822.10 - lr: 0.050000\n",
      "2023-10-07 17:49:55,751 epoch 11 - iter 10/19 - loss -0.00000001 - time (sec): 10.96 - samples/sec: 819.86 - lr: 0.050000\n",
      "2023-10-07 17:49:56,940 epoch 11 - iter 11/19 - loss -0.00000001 - time (sec): 12.15 - samples/sec: 825.98 - lr: 0.050000\n",
      "2023-10-07 17:49:57,971 epoch 11 - iter 12/19 - loss -0.00000001 - time (sec): 13.18 - samples/sec: 831.12 - lr: 0.050000\n",
      "2023-10-07 17:49:58,969 epoch 11 - iter 13/19 - loss -0.00000001 - time (sec): 14.17 - samples/sec: 831.02 - lr: 0.050000\n",
      "2023-10-07 17:49:59,785 epoch 11 - iter 14/19 - loss -0.00000001 - time (sec): 14.99 - samples/sec: 837.96 - lr: 0.050000\n",
      "2023-10-07 17:50:00,768 epoch 11 - iter 15/19 - loss -0.00000001 - time (sec): 15.97 - samples/sec: 847.86 - lr: 0.050000\n",
      "2023-10-07 17:50:02,016 epoch 11 - iter 16/19 - loss -0.00000001 - time (sec): 17.22 - samples/sec: 844.30 - lr: 0.050000\n",
      "2023-10-07 17:50:02,916 epoch 11 - iter 17/19 - loss -0.00000001 - time (sec): 18.12 - samples/sec: 849.94 - lr: 0.050000\n",
      "2023-10-07 17:50:04,407 epoch 11 - iter 18/19 - loss -0.00000001 - time (sec): 19.61 - samples/sec: 838.69 - lr: 0.050000\n",
      "2023-10-07 17:50:04,667 epoch 11 - iter 19/19 - loss -0.00000001 - time (sec): 19.87 - samples/sec: 837.44 - lr: 0.050000\n",
      "2023-10-07 17:50:04,669 ----------------------------------------------------------------------------------------------------\n",
      "2023-10-07 17:50:04,670 EPOCH 11 done: loss -0.0000 - lr 0.050000\n"
     ]
    },
    {
     "name": "stderr",
     "output_type": "stream",
     "text": [
      "100%|██████████| 4/4 [00:02<00:00,  1.60it/s]"
     ]
    },
    {
     "name": "stdout",
     "output_type": "stream",
     "text": [
      "2023-10-07 17:50:07,179 Evaluating as a multi-label problem: False\n",
      "2023-10-07 17:50:07,195 DEV : loss 9.036890347147164e-09 - f1-score (micro avg)  0.0\n",
      "2023-10-07 17:50:07,219 BAD EPOCHS (no improvement): 2\n",
      "2023-10-07 17:50:07,223 ----------------------------------------------------------------------------------------------------\n"
     ]
    },
    {
     "name": "stderr",
     "output_type": "stream",
     "text": [
      "\n"
     ]
    },
    {
     "name": "stdout",
     "output_type": "stream",
     "text": [
      "2023-10-07 17:50:08,402 epoch 12 - iter 1/19 - loss 0.00000000 - time (sec): 1.18 - samples/sec: 818.47 - lr: 0.050000\n",
      "2023-10-07 17:50:09,432 epoch 12 - iter 2/19 - loss 0.00000000 - time (sec): 2.21 - samples/sec: 840.11 - lr: 0.050000\n",
      "2023-10-07 17:50:10,283 epoch 12 - iter 3/19 - loss 0.00000000 - time (sec): 3.06 - samples/sec: 883.37 - lr: 0.050000\n",
      "2023-10-07 17:50:11,195 epoch 12 - iter 4/19 - loss 0.00000000 - time (sec): 3.97 - samples/sec: 906.08 - lr: 0.050000\n",
      "2023-10-07 17:50:12,264 epoch 12 - iter 5/19 - loss -0.00000000 - time (sec): 5.04 - samples/sec: 910.14 - lr: 0.050000\n",
      "2023-10-07 17:50:13,116 epoch 12 - iter 6/19 - loss -0.00000000 - time (sec): 5.89 - samples/sec: 927.13 - lr: 0.050000\n",
      "2023-10-07 17:50:13,964 epoch 12 - iter 7/19 - loss 0.00000000 - time (sec): 6.74 - samples/sec: 940.25 - lr: 0.050000\n",
      "2023-10-07 17:50:14,785 epoch 12 - iter 8/19 - loss 0.00000000 - time (sec): 7.56 - samples/sec: 938.25 - lr: 0.050000\n",
      "2023-10-07 17:50:16,026 epoch 12 - iter 9/19 - loss -0.00000000 - time (sec): 8.80 - samples/sec: 916.21 - lr: 0.050000\n",
      "2023-10-07 17:50:17,066 epoch 12 - iter 10/19 - loss -0.00000000 - time (sec): 9.84 - samples/sec: 913.57 - lr: 0.050000\n",
      "2023-10-07 17:50:18,373 epoch 12 - iter 11/19 - loss -0.00000000 - time (sec): 11.15 - samples/sec: 905.08 - lr: 0.050000\n",
      "2023-10-07 17:50:19,418 epoch 12 - iter 12/19 - loss -0.00000000 - time (sec): 12.19 - samples/sec: 901.42 - lr: 0.050000\n",
      "2023-10-07 17:50:20,387 epoch 12 - iter 13/19 - loss -0.00000000 - time (sec): 13.16 - samples/sec: 903.25 - lr: 0.050000\n",
      "2023-10-07 17:50:21,396 epoch 12 - iter 14/19 - loss -0.00000000 - time (sec): 14.17 - samples/sec: 900.25 - lr: 0.050000\n",
      "2023-10-07 17:50:22,259 epoch 12 - iter 15/19 - loss -0.00000000 - time (sec): 15.04 - samples/sec: 901.88 - lr: 0.050000\n",
      "2023-10-07 17:50:23,279 epoch 12 - iter 16/19 - loss -0.00000000 - time (sec): 16.05 - samples/sec: 903.02 - lr: 0.050000\n",
      "2023-10-07 17:50:24,304 epoch 12 - iter 17/19 - loss -0.00000000 - time (sec): 17.08 - samples/sec: 905.97 - lr: 0.050000\n",
      "2023-10-07 17:50:25,275 epoch 12 - iter 18/19 - loss 0.00000000 - time (sec): 18.05 - samples/sec: 911.37 - lr: 0.050000\n",
      "2023-10-07 17:50:25,501 epoch 12 - iter 19/19 - loss 0.00000000 - time (sec): 18.28 - samples/sec: 910.55 - lr: 0.050000\n",
      "2023-10-07 17:50:25,504 ----------------------------------------------------------------------------------------------------\n",
      "2023-10-07 17:50:25,505 EPOCH 12 done: loss 0.0000 - lr 0.050000\n"
     ]
    },
    {
     "name": "stderr",
     "output_type": "stream",
     "text": [
      "100%|██████████| 4/4 [00:02<00:00,  1.65it/s]"
     ]
    },
    {
     "name": "stdout",
     "output_type": "stream",
     "text": [
      "2023-10-07 17:50:27,932 Evaluating as a multi-label problem: False\n",
      "2023-10-07 17:50:27,948 DEV : loss 9.036890347147164e-09 - f1-score (micro avg)  0.0\n",
      "2023-10-07 17:50:27,971 BAD EPOCHS (no improvement): 3\n",
      "2023-10-07 17:50:27,974 ----------------------------------------------------------------------------------------------------\n"
     ]
    },
    {
     "name": "stderr",
     "output_type": "stream",
     "text": [
      "\n"
     ]
    },
    {
     "name": "stdout",
     "output_type": "stream",
     "text": [
      "2023-10-07 17:50:28,917 epoch 13 - iter 1/19 - loss 0.00000000 - time (sec): 0.94 - samples/sec: 879.33 - lr: 0.050000\n",
      "2023-10-07 17:50:29,798 epoch 13 - iter 2/19 - loss 0.00000000 - time (sec): 1.82 - samples/sec: 930.26 - lr: 0.050000\n",
      "2023-10-07 17:50:30,728 epoch 13 - iter 3/19 - loss 0.00000000 - time (sec): 2.75 - samples/sec: 965.54 - lr: 0.050000\n",
      "2023-10-07 17:50:31,770 epoch 13 - iter 4/19 - loss 0.00000000 - time (sec): 3.79 - samples/sec: 946.12 - lr: 0.050000\n",
      "2023-10-07 17:50:32,659 epoch 13 - iter 5/19 - loss 0.00000000 - time (sec): 4.68 - samples/sec: 945.30 - lr: 0.050000\n",
      "2023-10-07 17:50:33,672 epoch 13 - iter 6/19 - loss 0.00000000 - time (sec): 5.70 - samples/sec: 939.10 - lr: 0.050000\n",
      "2023-10-07 17:50:34,669 epoch 13 - iter 7/19 - loss 0.00000000 - time (sec): 6.69 - samples/sec: 936.79 - lr: 0.050000\n",
      "2023-10-07 17:50:35,611 epoch 13 - iter 8/19 - loss 0.00000000 - time (sec): 7.64 - samples/sec: 941.82 - lr: 0.050000\n",
      "2023-10-07 17:50:36,921 epoch 13 - iter 9/19 - loss 0.00000001 - time (sec): 8.95 - samples/sec: 930.00 - lr: 0.050000\n",
      "2023-10-07 17:50:37,871 epoch 13 - iter 10/19 - loss 0.00000000 - time (sec): 9.90 - samples/sec: 936.37 - lr: 0.050000\n",
      "2023-10-07 17:50:38,800 epoch 13 - iter 11/19 - loss 0.00000000 - time (sec): 10.82 - samples/sec: 941.82 - lr: 0.050000\n",
      "2023-10-07 17:50:39,782 epoch 13 - iter 12/19 - loss 0.00000000 - time (sec): 11.81 - samples/sec: 938.57 - lr: 0.050000\n",
      "2023-10-07 17:50:40,664 epoch 13 - iter 13/19 - loss 0.00000000 - time (sec): 12.69 - samples/sec: 942.48 - lr: 0.050000\n",
      "2023-10-07 17:50:41,655 epoch 13 - iter 14/19 - loss 0.00000000 - time (sec): 13.68 - samples/sec: 946.78 - lr: 0.050000\n",
      "2023-10-07 17:50:42,500 epoch 13 - iter 15/19 - loss -0.00000000 - time (sec): 14.52 - samples/sec: 950.75 - lr: 0.050000\n",
      "2023-10-07 17:50:43,453 epoch 13 - iter 16/19 - loss -0.00000000 - time (sec): 15.48 - samples/sec: 951.26 - lr: 0.050000\n",
      "2023-10-07 17:50:44,381 epoch 13 - iter 17/19 - loss -0.00000000 - time (sec): 16.41 - samples/sec: 955.74 - lr: 0.050000\n",
      "2023-10-07 17:50:45,213 epoch 13 - iter 18/19 - loss -0.00000000 - time (sec): 17.24 - samples/sec: 957.67 - lr: 0.050000\n",
      "2023-10-07 17:50:45,384 epoch 13 - iter 19/19 - loss -0.00000000 - time (sec): 17.41 - samples/sec: 955.97 - lr: 0.050000\n",
      "2023-10-07 17:50:45,385 ----------------------------------------------------------------------------------------------------\n",
      "2023-10-07 17:50:45,386 EPOCH 13 done: loss -0.0000 - lr 0.050000\n"
     ]
    },
    {
     "name": "stderr",
     "output_type": "stream",
     "text": [
      "100%|██████████| 4/4 [00:02<00:00,  1.64it/s]"
     ]
    },
    {
     "name": "stdout",
     "output_type": "stream",
     "text": [
      "2023-10-07 17:50:47,835 Evaluating as a multi-label problem: False\n",
      "2023-10-07 17:50:47,851 DEV : loss 9.036890347147164e-09 - f1-score (micro avg)  0.0\n",
      "2023-10-07 17:50:47,875 Epoch    13: reducing learning rate of group 0 to 2.5000e-02.\n",
      "2023-10-07 17:50:47,879 BAD EPOCHS (no improvement): 4\n",
      "2023-10-07 17:50:47,880 ----------------------------------------------------------------------------------------------------\n"
     ]
    },
    {
     "name": "stderr",
     "output_type": "stream",
     "text": [
      "\n"
     ]
    },
    {
     "name": "stdout",
     "output_type": "stream",
     "text": [
      "2023-10-07 17:50:48,987 epoch 14 - iter 1/19 - loss 0.00000000 - time (sec): 1.11 - samples/sec: 753.31 - lr: 0.025000\n",
      "2023-10-07 17:50:49,838 epoch 14 - iter 2/19 - loss 0.00000000 - time (sec): 1.96 - samples/sec: 861.34 - lr: 0.025000\n",
      "2023-10-07 17:50:50,757 epoch 14 - iter 3/19 - loss 0.00000000 - time (sec): 2.88 - samples/sec: 916.19 - lr: 0.025000\n",
      "2023-10-07 17:50:51,680 epoch 14 - iter 4/19 - loss 0.00000000 - time (sec): 3.80 - samples/sec: 948.57 - lr: 0.025000\n",
      "2023-10-07 17:50:52,589 epoch 14 - iter 5/19 - loss 0.00000000 - time (sec): 4.71 - samples/sec: 962.12 - lr: 0.025000\n",
      "2023-10-07 17:50:53,473 epoch 14 - iter 6/19 - loss 0.00000001 - time (sec): 5.59 - samples/sec: 951.74 - lr: 0.025000\n",
      "2023-10-07 17:50:54,512 epoch 14 - iter 7/19 - loss 0.00000000 - time (sec): 6.63 - samples/sec: 960.93 - lr: 0.025000\n",
      "2023-10-07 17:50:55,522 epoch 14 - iter 8/19 - loss 0.00000000 - time (sec): 7.64 - samples/sec: 947.95 - lr: 0.025000\n",
      "2023-10-07 17:50:56,509 epoch 14 - iter 9/19 - loss 0.00000000 - time (sec): 8.63 - samples/sec: 955.92 - lr: 0.025000\n",
      "2023-10-07 17:50:57,483 epoch 14 - iter 10/19 - loss 0.00000000 - time (sec): 9.60 - samples/sec: 963.78 - lr: 0.025000\n",
      "2023-10-07 17:50:58,377 epoch 14 - iter 11/19 - loss 0.00000000 - time (sec): 10.50 - samples/sec: 968.83 - lr: 0.025000\n",
      "2023-10-07 17:50:59,269 epoch 14 - iter 12/19 - loss 0.00000000 - time (sec): 11.39 - samples/sec: 960.98 - lr: 0.025000\n",
      "2023-10-07 17:51:00,236 epoch 14 - iter 13/19 - loss 0.00000000 - time (sec): 12.35 - samples/sec: 961.42 - lr: 0.025000\n",
      "2023-10-07 17:51:01,234 epoch 14 - iter 14/19 - loss 0.00000000 - time (sec): 13.35 - samples/sec: 966.23 - lr: 0.025000\n",
      "2023-10-07 17:51:02,141 epoch 14 - iter 15/19 - loss 0.00000000 - time (sec): 14.26 - samples/sec: 967.25 - lr: 0.025000\n",
      "2023-10-07 17:51:03,100 epoch 14 - iter 16/19 - loss 0.00000000 - time (sec): 15.22 - samples/sec: 969.93 - lr: 0.025000\n",
      "2023-10-07 17:51:04,220 epoch 14 - iter 17/19 - loss 0.00000000 - time (sec): 16.34 - samples/sec: 960.13 - lr: 0.025000\n",
      "2023-10-07 17:51:05,019 epoch 14 - iter 18/19 - loss 0.00000000 - time (sec): 17.14 - samples/sec: 960.36 - lr: 0.025000\n",
      "2023-10-07 17:51:05,257 epoch 14 - iter 19/19 - loss 0.00000000 - time (sec): 17.38 - samples/sec: 957.75 - lr: 0.025000\n",
      "2023-10-07 17:51:05,259 ----------------------------------------------------------------------------------------------------\n",
      "2023-10-07 17:51:05,260 EPOCH 14 done: loss 0.0000 - lr 0.025000\n"
     ]
    },
    {
     "name": "stderr",
     "output_type": "stream",
     "text": [
      "100%|██████████| 4/4 [00:02<00:00,  1.47it/s]"
     ]
    },
    {
     "name": "stdout",
     "output_type": "stream",
     "text": [
      "2023-10-07 17:51:07,996 Evaluating as a multi-label problem: False\n",
      "2023-10-07 17:51:08,016 DEV : loss 9.036890347147164e-09 - f1-score (micro avg)  0.0\n",
      "2023-10-07 17:51:08,040 BAD EPOCHS (no improvement): 1\n",
      "2023-10-07 17:51:08,043 ----------------------------------------------------------------------------------------------------\n"
     ]
    },
    {
     "name": "stderr",
     "output_type": "stream",
     "text": [
      "\n"
     ]
    },
    {
     "name": "stdout",
     "output_type": "stream",
     "text": [
      "2023-10-07 17:51:09,221 epoch 15 - iter 1/19 - loss -0.00000002 - time (sec): 1.18 - samples/sec: 664.87 - lr: 0.025000\n",
      "2023-10-07 17:51:10,125 epoch 15 - iter 2/19 - loss -0.00000001 - time (sec): 2.08 - samples/sec: 797.77 - lr: 0.025000\n",
      "2023-10-07 17:51:11,156 epoch 15 - iter 3/19 - loss -0.00000001 - time (sec): 3.11 - samples/sec: 824.17 - lr: 0.025000\n",
      "2023-10-07 17:51:12,123 epoch 15 - iter 4/19 - loss -0.00000001 - time (sec): 4.08 - samples/sec: 867.47 - lr: 0.025000\n",
      "2023-10-07 17:51:13,195 epoch 15 - iter 5/19 - loss -0.00000001 - time (sec): 5.15 - samples/sec: 884.94 - lr: 0.025000\n",
      "2023-10-07 17:51:14,018 epoch 15 - iter 6/19 - loss -0.00000001 - time (sec): 5.97 - samples/sec: 900.72 - lr: 0.025000\n",
      "2023-10-07 17:51:14,923 epoch 15 - iter 7/19 - loss -0.00000001 - time (sec): 6.88 - samples/sec: 901.33 - lr: 0.025000\n",
      "2023-10-07 17:51:16,095 epoch 15 - iter 8/19 - loss -0.00000001 - time (sec): 8.05 - samples/sec: 895.07 - lr: 0.025000\n",
      "2023-10-07 17:51:17,052 epoch 15 - iter 9/19 - loss -0.00000001 - time (sec): 9.01 - samples/sec: 900.60 - lr: 0.025000\n",
      "2023-10-07 17:51:17,894 epoch 15 - iter 10/19 - loss -0.00000001 - time (sec): 9.85 - samples/sec: 910.53 - lr: 0.025000\n",
      "2023-10-07 17:51:18,754 epoch 15 - iter 11/19 - loss -0.00000001 - time (sec): 10.71 - samples/sec: 914.97 - lr: 0.025000\n",
      "2023-10-07 17:51:19,902 epoch 15 - iter 12/19 - loss -0.00000001 - time (sec): 11.86 - samples/sec: 902.97 - lr: 0.025000\n",
      "2023-10-07 17:51:21,138 epoch 15 - iter 13/19 - loss -0.00000001 - time (sec): 13.09 - samples/sec: 891.80 - lr: 0.025000\n",
      "2023-10-07 17:51:22,484 epoch 15 - iter 14/19 - loss -0.00000000 - time (sec): 14.44 - samples/sec: 880.57 - lr: 0.025000\n",
      "2023-10-07 17:51:23,815 epoch 15 - iter 15/19 - loss -0.00000000 - time (sec): 15.77 - samples/sec: 866.38 - lr: 0.025000\n",
      "2023-10-07 17:51:24,961 epoch 15 - iter 16/19 - loss -0.00000000 - time (sec): 16.92 - samples/sec: 863.82 - lr: 0.025000\n",
      "2023-10-07 17:51:26,094 epoch 15 - iter 17/19 - loss -0.00000000 - time (sec): 18.05 - samples/sec: 861.55 - lr: 0.025000\n",
      "2023-10-07 17:51:27,127 epoch 15 - iter 18/19 - loss -0.00000000 - time (sec): 19.08 - samples/sec: 862.14 - lr: 0.025000\n",
      "2023-10-07 17:51:27,394 epoch 15 - iter 19/19 - loss -0.00000000 - time (sec): 19.35 - samples/sec: 860.07 - lr: 0.025000\n",
      "2023-10-07 17:51:27,396 ----------------------------------------------------------------------------------------------------\n",
      "2023-10-07 17:51:27,397 EPOCH 15 done: loss -0.0000 - lr 0.025000\n"
     ]
    },
    {
     "name": "stderr",
     "output_type": "stream",
     "text": [
      "100%|██████████| 4/4 [00:02<00:00,  1.49it/s]"
     ]
    },
    {
     "name": "stdout",
     "output_type": "stream",
     "text": [
      "2023-10-07 17:51:30,093 Evaluating as a multi-label problem: False\n",
      "2023-10-07 17:51:30,114 DEV : loss 9.036890347147164e-09 - f1-score (micro avg)  0.0\n",
      "2023-10-07 17:51:30,146 BAD EPOCHS (no improvement): 2\n",
      "2023-10-07 17:51:30,149 ----------------------------------------------------------------------------------------------------\n"
     ]
    },
    {
     "name": "stderr",
     "output_type": "stream",
     "text": [
      "\n"
     ]
    },
    {
     "name": "stdout",
     "output_type": "stream",
     "text": [
      "2023-10-07 17:51:31,154 epoch 16 - iter 1/19 - loss -0.00000002 - time (sec): 1.00 - samples/sec: 874.59 - lr: 0.025000\n",
      "2023-10-07 17:51:31,994 epoch 16 - iter 2/19 - loss -0.00000001 - time (sec): 1.84 - samples/sec: 880.41 - lr: 0.025000\n",
      "2023-10-07 17:51:33,002 epoch 16 - iter 3/19 - loss -0.00000001 - time (sec): 2.85 - samples/sec: 891.31 - lr: 0.025000\n",
      "2023-10-07 17:51:34,084 epoch 16 - iter 4/19 - loss -0.00000000 - time (sec): 3.93 - samples/sec: 869.99 - lr: 0.025000\n",
      "2023-10-07 17:51:35,202 epoch 16 - iter 5/19 - loss -0.00000001 - time (sec): 5.05 - samples/sec: 873.79 - lr: 0.025000\n",
      "2023-10-07 17:51:36,312 epoch 16 - iter 6/19 - loss -0.00000000 - time (sec): 6.16 - samples/sec: 874.33 - lr: 0.025000\n",
      "2023-10-07 17:51:37,234 epoch 16 - iter 7/19 - loss 0.00000000 - time (sec): 7.08 - samples/sec: 871.85 - lr: 0.025000\n",
      "2023-10-07 17:51:38,597 epoch 16 - iter 8/19 - loss 0.00000000 - time (sec): 8.45 - samples/sec: 865.23 - lr: 0.025000\n",
      "2023-10-07 17:51:39,545 epoch 16 - iter 9/19 - loss 0.00000000 - time (sec): 9.39 - samples/sec: 865.83 - lr: 0.025000\n",
      "2023-10-07 17:51:40,761 epoch 16 - iter 10/19 - loss 0.00000000 - time (sec): 10.61 - samples/sec: 859.88 - lr: 0.025000\n",
      "2023-10-07 17:51:41,616 epoch 16 - iter 11/19 - loss 0.00000000 - time (sec): 11.47 - samples/sec: 863.37 - lr: 0.025000\n",
      "2023-10-07 17:51:42,660 epoch 16 - iter 12/19 - loss 0.00000000 - time (sec): 12.51 - samples/sec: 871.25 - lr: 0.025000\n",
      "2023-10-07 17:51:43,841 epoch 16 - iter 13/19 - loss 0.00000000 - time (sec): 13.69 - samples/sec: 864.81 - lr: 0.025000\n",
      "2023-10-07 17:51:44,903 epoch 16 - iter 14/19 - loss 0.00000000 - time (sec): 14.75 - samples/sec: 865.67 - lr: 0.025000\n",
      "2023-10-07 17:51:46,030 epoch 16 - iter 15/19 - loss 0.00000000 - time (sec): 15.88 - samples/sec: 867.38 - lr: 0.025000\n",
      "2023-10-07 17:51:46,958 epoch 16 - iter 16/19 - loss 0.00000000 - time (sec): 16.81 - samples/sec: 869.89 - lr: 0.025000\n",
      "2023-10-07 17:51:47,911 epoch 16 - iter 17/19 - loss 0.00000000 - time (sec): 17.76 - samples/sec: 871.00 - lr: 0.025000\n",
      "2023-10-07 17:51:48,961 epoch 16 - iter 18/19 - loss 0.00000000 - time (sec): 18.81 - samples/sec: 872.34 - lr: 0.025000\n",
      "2023-10-07 17:51:49,252 epoch 16 - iter 19/19 - loss 0.00000000 - time (sec): 19.10 - samples/sec: 871.22 - lr: 0.025000\n",
      "2023-10-07 17:51:49,254 ----------------------------------------------------------------------------------------------------\n",
      "2023-10-07 17:51:49,255 EPOCH 16 done: loss 0.0000 - lr 0.025000\n"
     ]
    },
    {
     "name": "stderr",
     "output_type": "stream",
     "text": [
      "100%|██████████| 4/4 [00:02<00:00,  1.41it/s]"
     ]
    },
    {
     "name": "stdout",
     "output_type": "stream",
     "text": [
      "2023-10-07 17:51:52,096 Evaluating as a multi-label problem: False\n",
      "2023-10-07 17:51:52,119 DEV : loss 9.036890347147164e-09 - f1-score (micro avg)  0.0\n",
      "2023-10-07 17:51:52,150 BAD EPOCHS (no improvement): 3\n",
      "2023-10-07 17:51:52,154 ----------------------------------------------------------------------------------------------------\n"
     ]
    },
    {
     "name": "stderr",
     "output_type": "stream",
     "text": [
      "\n"
     ]
    },
    {
     "name": "stdout",
     "output_type": "stream",
     "text": [
      "2023-10-07 17:51:53,117 epoch 17 - iter 1/19 - loss -0.00000002 - time (sec): 0.96 - samples/sec: 946.77 - lr: 0.025000\n",
      "2023-10-07 17:51:54,132 epoch 17 - iter 2/19 - loss -0.00000002 - time (sec): 1.98 - samples/sec: 925.72 - lr: 0.025000\n",
      "2023-10-07 17:51:55,238 epoch 17 - iter 3/19 - loss -0.00000001 - time (sec): 3.08 - samples/sec: 879.44 - lr: 0.025000\n",
      "2023-10-07 17:51:56,153 epoch 17 - iter 4/19 - loss -0.00000001 - time (sec): 4.00 - samples/sec: 883.79 - lr: 0.025000\n",
      "2023-10-07 17:51:57,417 epoch 17 - iter 5/19 - loss -0.00000000 - time (sec): 5.26 - samples/sec: 873.06 - lr: 0.025000\n",
      "2023-10-07 17:51:58,452 epoch 17 - iter 6/19 - loss -0.00000000 - time (sec): 6.30 - samples/sec: 872.59 - lr: 0.025000\n",
      "2023-10-07 17:51:59,503 epoch 17 - iter 7/19 - loss -0.00000000 - time (sec): 7.35 - samples/sec: 872.44 - lr: 0.025000\n",
      "2023-10-07 17:52:00,586 epoch 17 - iter 8/19 - loss -0.00000000 - time (sec): 8.43 - samples/sec: 867.49 - lr: 0.025000\n",
      "2023-10-07 17:52:01,605 epoch 17 - iter 9/19 - loss -0.00000000 - time (sec): 9.45 - samples/sec: 872.11 - lr: 0.025000\n",
      "2023-10-07 17:52:02,659 epoch 17 - iter 10/19 - loss 0.00000000 - time (sec): 10.50 - samples/sec: 874.09 - lr: 0.025000\n",
      "2023-10-07 17:52:03,741 epoch 17 - iter 11/19 - loss 0.00000000 - time (sec): 11.59 - samples/sec: 871.60 - lr: 0.025000\n",
      "2023-10-07 17:52:04,873 epoch 17 - iter 12/19 - loss 0.00000000 - time (sec): 12.72 - samples/sec: 866.43 - lr: 0.025000\n",
      "2023-10-07 17:52:05,744 epoch 17 - iter 13/19 - loss 0.00000000 - time (sec): 13.59 - samples/sec: 867.44 - lr: 0.025000\n",
      "2023-10-07 17:52:06,797 epoch 17 - iter 14/19 - loss 0.00000000 - time (sec): 14.64 - samples/sec: 870.58 - lr: 0.025000\n",
      "2023-10-07 17:52:07,689 epoch 17 - iter 15/19 - loss 0.00000000 - time (sec): 15.53 - samples/sec: 870.87 - lr: 0.025000\n",
      "2023-10-07 17:52:08,895 epoch 17 - iter 16/19 - loss -0.00000000 - time (sec): 16.74 - samples/sec: 869.16 - lr: 0.025000\n",
      "2023-10-07 17:52:09,899 epoch 17 - iter 17/19 - loss -0.00000000 - time (sec): 17.74 - samples/sec: 873.30 - lr: 0.025000\n",
      "2023-10-07 17:52:11,022 epoch 17 - iter 18/19 - loss -0.00000000 - time (sec): 18.87 - samples/sec: 871.57 - lr: 0.025000\n",
      "2023-10-07 17:52:11,313 epoch 17 - iter 19/19 - loss -0.00000000 - time (sec): 19.16 - samples/sec: 868.67 - lr: 0.025000\n",
      "2023-10-07 17:52:11,314 ----------------------------------------------------------------------------------------------------\n",
      "2023-10-07 17:52:11,316 EPOCH 17 done: loss -0.0000 - lr 0.025000\n"
     ]
    },
    {
     "name": "stderr",
     "output_type": "stream",
     "text": [
      "100%|██████████| 4/4 [00:02<00:00,  1.47it/s]"
     ]
    },
    {
     "name": "stdout",
     "output_type": "stream",
     "text": [
      "2023-10-07 17:52:14,035 Evaluating as a multi-label problem: False\n",
      "2023-10-07 17:52:14,053 DEV : loss 9.036890347147164e-09 - f1-score (micro avg)  0.0\n",
      "2023-10-07 17:52:14,078 Epoch    17: reducing learning rate of group 0 to 1.2500e-02.\n",
      "2023-10-07 17:52:14,081 BAD EPOCHS (no improvement): 4\n",
      "2023-10-07 17:52:14,082 ----------------------------------------------------------------------------------------------------\n"
     ]
    },
    {
     "name": "stderr",
     "output_type": "stream",
     "text": [
      "\n"
     ]
    },
    {
     "name": "stdout",
     "output_type": "stream",
     "text": [
      "2023-10-07 17:52:15,101 epoch 18 - iter 1/19 - loss 0.00000000 - time (sec): 1.02 - samples/sec: 892.55 - lr: 0.012500\n",
      "2023-10-07 17:52:16,275 epoch 18 - iter 2/19 - loss 0.00000000 - time (sec): 2.19 - samples/sec: 888.02 - lr: 0.012500\n",
      "2023-10-07 17:52:17,563 epoch 18 - iter 3/19 - loss -0.00000001 - time (sec): 3.48 - samples/sec: 868.70 - lr: 0.012500\n",
      "2023-10-07 17:52:18,750 epoch 18 - iter 4/19 - loss -0.00000001 - time (sec): 4.67 - samples/sec: 857.87 - lr: 0.012500\n",
      "2023-10-07 17:52:19,849 epoch 18 - iter 5/19 - loss -0.00000001 - time (sec): 5.77 - samples/sec: 840.85 - lr: 0.012500\n",
      "2023-10-07 17:52:20,775 epoch 18 - iter 6/19 - loss -0.00000001 - time (sec): 6.69 - samples/sec: 844.61 - lr: 0.012500\n",
      "2023-10-07 17:52:21,759 epoch 18 - iter 7/19 - loss -0.00000000 - time (sec): 7.68 - samples/sec: 847.62 - lr: 0.012500\n",
      "2023-10-07 17:52:22,755 epoch 18 - iter 8/19 - loss -0.00000000 - time (sec): 8.67 - samples/sec: 850.08 - lr: 0.012500\n",
      "2023-10-07 17:52:23,819 epoch 18 - iter 9/19 - loss -0.00000000 - time (sec): 9.74 - samples/sec: 853.28 - lr: 0.012500\n",
      "2023-10-07 17:52:24,898 epoch 18 - iter 10/19 - loss -0.00000000 - time (sec): 10.82 - samples/sec: 849.45 - lr: 0.012500\n",
      "2023-10-07 17:52:25,930 epoch 18 - iter 11/19 - loss -0.00000000 - time (sec): 11.85 - samples/sec: 847.11 - lr: 0.012500\n",
      "2023-10-07 17:52:26,927 epoch 18 - iter 12/19 - loss -0.00000000 - time (sec): 12.84 - samples/sec: 852.56 - lr: 0.012500\n",
      "2023-10-07 17:52:28,001 epoch 18 - iter 13/19 - loss -0.00000000 - time (sec): 13.92 - samples/sec: 851.17 - lr: 0.012500\n",
      "2023-10-07 17:52:29,302 epoch 18 - iter 14/19 - loss -0.00000000 - time (sec): 15.22 - samples/sec: 844.21 - lr: 0.012500\n",
      "2023-10-07 17:52:30,316 epoch 18 - iter 15/19 - loss -0.00000000 - time (sec): 16.23 - samples/sec: 845.86 - lr: 0.012500\n",
      "2023-10-07 17:52:31,438 epoch 18 - iter 16/19 - loss -0.00000000 - time (sec): 17.35 - samples/sec: 837.53 - lr: 0.012500\n",
      "2023-10-07 17:52:32,476 epoch 18 - iter 17/19 - loss -0.00000000 - time (sec): 18.39 - samples/sec: 839.20 - lr: 0.012500\n",
      "2023-10-07 17:52:33,768 epoch 18 - iter 18/19 - loss -0.00000000 - time (sec): 19.69 - samples/sec: 837.82 - lr: 0.012500\n",
      "2023-10-07 17:52:33,976 epoch 18 - iter 19/19 - loss -0.00000000 - time (sec): 19.89 - samples/sec: 836.56 - lr: 0.012500\n",
      "2023-10-07 17:52:33,978 ----------------------------------------------------------------------------------------------------\n",
      "2023-10-07 17:52:33,979 EPOCH 18 done: loss -0.0000 - lr 0.012500\n"
     ]
    },
    {
     "name": "stderr",
     "output_type": "stream",
     "text": [
      "100%|██████████| 4/4 [00:02<00:00,  1.57it/s]"
     ]
    },
    {
     "name": "stdout",
     "output_type": "stream",
     "text": [
      "2023-10-07 17:52:36,540 Evaluating as a multi-label problem: False\n",
      "2023-10-07 17:52:36,557 DEV : loss 9.036890347147164e-09 - f1-score (micro avg)  0.0\n",
      "2023-10-07 17:52:36,580 BAD EPOCHS (no improvement): 1\n",
      "2023-10-07 17:52:36,584 ----------------------------------------------------------------------------------------------------\n"
     ]
    },
    {
     "name": "stderr",
     "output_type": "stream",
     "text": [
      "\n"
     ]
    },
    {
     "name": "stdout",
     "output_type": "stream",
     "text": [
      "2023-10-07 17:52:37,615 epoch 19 - iter 1/19 - loss -0.00000002 - time (sec): 1.03 - samples/sec: 866.68 - lr: 0.012500\n",
      "2023-10-07 17:52:38,540 epoch 19 - iter 2/19 - loss -0.00000002 - time (sec): 1.95 - samples/sec: 887.02 - lr: 0.012500\n",
      "2023-10-07 17:52:39,405 epoch 19 - iter 3/19 - loss -0.00000001 - time (sec): 2.82 - samples/sec: 919.37 - lr: 0.012500\n",
      "2023-10-07 17:52:40,880 epoch 19 - iter 4/19 - loss -0.00000001 - time (sec): 4.30 - samples/sec: 830.91 - lr: 0.012500\n",
      "2023-10-07 17:52:41,776 epoch 19 - iter 5/19 - loss -0.00000000 - time (sec): 5.19 - samples/sec: 849.19 - lr: 0.012500\n",
      "2023-10-07 17:52:42,814 epoch 19 - iter 6/19 - loss -0.00000000 - time (sec): 6.23 - samples/sec: 868.97 - lr: 0.012500\n",
      "2023-10-07 17:52:43,901 epoch 19 - iter 7/19 - loss -0.00000000 - time (sec): 7.32 - samples/sec: 875.82 - lr: 0.012500\n",
      "2023-10-07 17:52:45,000 epoch 19 - iter 8/19 - loss -0.00000001 - time (sec): 8.42 - samples/sec: 886.57 - lr: 0.012500\n",
      "2023-10-07 17:52:46,226 epoch 19 - iter 9/19 - loss -0.00000001 - time (sec): 9.64 - samples/sec: 874.69 - lr: 0.012500\n",
      "2023-10-07 17:52:47,115 epoch 19 - iter 10/19 - loss -0.00000001 - time (sec): 10.53 - samples/sec: 874.06 - lr: 0.012500\n",
      "2023-10-07 17:52:48,164 epoch 19 - iter 11/19 - loss -0.00000001 - time (sec): 11.58 - samples/sec: 876.55 - lr: 0.012500\n",
      "2023-10-07 17:52:49,145 epoch 19 - iter 12/19 - loss -0.00000001 - time (sec): 12.56 - samples/sec: 879.80 - lr: 0.012500\n",
      "2023-10-07 17:52:50,176 epoch 19 - iter 13/19 - loss -0.00000001 - time (sec): 13.59 - samples/sec: 880.09 - lr: 0.012500\n",
      "2023-10-07 17:52:51,098 epoch 19 - iter 14/19 - loss -0.00000001 - time (sec): 14.51 - samples/sec: 880.59 - lr: 0.012500\n",
      "2023-10-07 17:52:52,039 epoch 19 - iter 15/19 - loss -0.00000001 - time (sec): 15.45 - samples/sec: 884.08 - lr: 0.012500\n",
      "2023-10-07 17:52:53,145 epoch 19 - iter 16/19 - loss -0.00000001 - time (sec): 16.56 - samples/sec: 883.88 - lr: 0.012500\n",
      "2023-10-07 17:52:54,114 epoch 19 - iter 17/19 - loss -0.00000001 - time (sec): 17.53 - samples/sec: 885.09 - lr: 0.012500\n",
      "2023-10-07 17:52:55,107 epoch 19 - iter 18/19 - loss -0.00000001 - time (sec): 18.52 - samples/sec: 887.73 - lr: 0.012500\n",
      "2023-10-07 17:52:55,365 epoch 19 - iter 19/19 - loss -0.00000001 - time (sec): 18.78 - samples/sec: 886.15 - lr: 0.012500\n",
      "2023-10-07 17:52:55,367 ----------------------------------------------------------------------------------------------------\n",
      "2023-10-07 17:52:55,367 EPOCH 19 done: loss -0.0000 - lr 0.012500\n"
     ]
    },
    {
     "name": "stderr",
     "output_type": "stream",
     "text": [
      "100%|██████████| 4/4 [00:02<00:00,  1.51it/s]"
     ]
    },
    {
     "name": "stdout",
     "output_type": "stream",
     "text": [
      "2023-10-07 17:52:58,021 Evaluating as a multi-label problem: False\n",
      "2023-10-07 17:52:58,041 DEV : loss 9.036890347147164e-09 - f1-score (micro avg)  0.0\n",
      "2023-10-07 17:52:58,076 BAD EPOCHS (no improvement): 2\n",
      "2023-10-07 17:52:58,081 ----------------------------------------------------------------------------------------------------\n"
     ]
    },
    {
     "name": "stderr",
     "output_type": "stream",
     "text": [
      "\n"
     ]
    },
    {
     "name": "stdout",
     "output_type": "stream",
     "text": [
      "2023-10-07 17:52:59,134 epoch 20 - iter 1/19 - loss 0.00000000 - time (sec): 1.05 - samples/sec: 866.92 - lr: 0.012500\n",
      "2023-10-07 17:53:00,098 epoch 20 - iter 2/19 - loss 0.00000002 - time (sec): 2.02 - samples/sec: 867.19 - lr: 0.012500\n",
      "2023-10-07 17:53:01,086 epoch 20 - iter 3/19 - loss 0.00000000 - time (sec): 3.00 - samples/sec: 882.91 - lr: 0.012500\n",
      "2023-10-07 17:53:01,954 epoch 20 - iter 4/19 - loss 0.00000000 - time (sec): 3.87 - samples/sec: 882.26 - lr: 0.012500\n",
      "2023-10-07 17:53:03,000 epoch 20 - iter 5/19 - loss 0.00000000 - time (sec): 4.92 - samples/sec: 883.59 - lr: 0.012500\n",
      "2023-10-07 17:53:04,081 epoch 20 - iter 6/19 - loss 0.00000000 - time (sec): 6.00 - samples/sec: 891.41 - lr: 0.012500\n",
      "2023-10-07 17:53:05,089 epoch 20 - iter 7/19 - loss 0.00000000 - time (sec): 7.01 - samples/sec: 891.74 - lr: 0.012500\n",
      "2023-10-07 17:53:06,490 epoch 20 - iter 8/19 - loss 0.00000000 - time (sec): 8.41 - samples/sec: 882.58 - lr: 0.012500\n",
      "2023-10-07 17:53:07,531 epoch 20 - iter 9/19 - loss 0.00000000 - time (sec): 9.45 - samples/sec: 885.18 - lr: 0.012500\n",
      "2023-10-07 17:53:08,395 epoch 20 - iter 10/19 - loss 0.00000000 - time (sec): 10.31 - samples/sec: 883.51 - lr: 0.012500\n",
      "2023-10-07 17:53:09,461 epoch 20 - iter 11/19 - loss 0.00000000 - time (sec): 11.38 - samples/sec: 883.99 - lr: 0.012500\n",
      "2023-10-07 17:53:10,605 epoch 20 - iter 12/19 - loss 0.00000000 - time (sec): 12.52 - samples/sec: 883.94 - lr: 0.012500\n",
      "2023-10-07 17:53:11,723 epoch 20 - iter 13/19 - loss 0.00000000 - time (sec): 13.64 - samples/sec: 878.94 - lr: 0.012500\n",
      "2023-10-07 17:53:12,843 epoch 20 - iter 14/19 - loss 0.00000000 - time (sec): 14.76 - samples/sec: 874.66 - lr: 0.012500\n",
      "2023-10-07 17:53:14,085 epoch 20 - iter 15/19 - loss 0.00000000 - time (sec): 16.00 - samples/sec: 869.63 - lr: 0.012500\n",
      "2023-10-07 17:53:15,062 epoch 20 - iter 16/19 - loss 0.00000000 - time (sec): 16.98 - samples/sec: 868.52 - lr: 0.012500\n",
      "2023-10-07 17:53:15,994 epoch 20 - iter 17/19 - loss 0.00000000 - time (sec): 17.91 - samples/sec: 866.51 - lr: 0.012500\n",
      "2023-10-07 17:53:17,035 epoch 20 - iter 18/19 - loss 0.00000001 - time (sec): 18.95 - samples/sec: 867.59 - lr: 0.012500\n",
      "2023-10-07 17:53:17,303 epoch 20 - iter 19/19 - loss 0.00000001 - time (sec): 19.22 - samples/sec: 865.82 - lr: 0.012500\n",
      "2023-10-07 17:53:17,304 ----------------------------------------------------------------------------------------------------\n",
      "2023-10-07 17:53:17,305 EPOCH 20 done: loss 0.0000 - lr 0.012500\n"
     ]
    },
    {
     "name": "stderr",
     "output_type": "stream",
     "text": [
      "100%|██████████| 4/4 [00:02<00:00,  1.45it/s]"
     ]
    },
    {
     "name": "stdout",
     "output_type": "stream",
     "text": [
      "2023-10-07 17:53:20,072 Evaluating as a multi-label problem: False\n",
      "2023-10-07 17:53:20,089 DEV : loss 9.036890347147164e-09 - f1-score (micro avg)  0.0\n",
      "2023-10-07 17:53:20,128 BAD EPOCHS (no improvement): 3\n"
     ]
    },
    {
     "name": "stderr",
     "output_type": "stream",
     "text": [
      "\n"
     ]
    },
    {
     "name": "stdout",
     "output_type": "stream",
     "text": [
      "2023-10-07 17:53:20,672 ----------------------------------------------------------------------------------------------------\n",
      "2023-10-07 17:53:23,181 SequenceTagger predicts: Dictionary with 3 tags: O, <START>, <STOP>\n"
     ]
    },
    {
     "name": "stderr",
     "output_type": "stream",
     "text": [
      "100%|██████████| 4/4 [00:02<00:00,  1.50it/s]"
     ]
    },
    {
     "name": "stdout",
     "output_type": "stream",
     "text": [
      "2023-10-07 17:53:26,065 Evaluating as a multi-label problem: False\n",
      "2023-10-07 17:53:26,086 0.0\t0.0\t0.0\t0.0\n",
      "2023-10-07 17:53:26,087 \n",
      "Results:\n",
      "- F-score (micro) 0.0\n",
      "- F-score (macro) 0.0\n",
      "- Accuracy 0.0\n",
      "\n",
      "By class:\n",
      "              precision    recall  f1-score   support\n",
      "\n",
      "           C     0.0000    0.0000    0.0000     351.0\n",
      "\n",
      "   micro avg     0.0000    0.0000    0.0000     351.0\n",
      "   macro avg     0.0000    0.0000    0.0000     351.0\n",
      "weighted avg     0.0000    0.0000    0.0000     351.0\n",
      "\n",
      "2023-10-07 17:53:26,088 ----------------------------------------------------------------------------------------------------\n"
     ]
    },
    {
     "name": "stderr",
     "output_type": "stream",
     "text": [
      "\n"
     ]
    }
   ],
   "source": [
    "set_seed(42)\n",
    "result = trainer.train(PATH_FLAIR_FOLDER,\n",
    "                       learning_rate=0.2,\n",
    "                       mini_batch_size=32,\n",
    "                       max_epochs=20,\n",
    "                       shuffle=True,\n",
    "                       num_workers=0)"
   ]
  },
  {
   "cell_type": "code",
   "execution_count": 12,
   "metadata": {},
   "outputs": [
    {
     "data": {
      "text/plain": [
       "0.0"
      ]
     },
     "execution_count": 12,
     "metadata": {},
     "output_type": "execute_result"
    }
   ],
   "source": [
    "result['test_score']"
   ]
  },
  {
   "cell_type": "code",
   "execution_count": 8,
   "metadata": {},
   "outputs": [
    {
     "ename": "AssertionError",
     "evalue": "",
     "output_type": "error",
     "traceback": [
      "\u001b[0;31m---------------------------------------------------------------------------\u001b[0m",
      "\u001b[0;31mAssertionError\u001b[0m                            Traceback (most recent call last)",
      "\u001b[1;32m/home/pclinux/spiced/data_science/capstone_project/exploration_causal_relations/causenet/01-concept-spotting/01-texts-training.ipynb Cell 9\u001b[0m line \u001b[0;36m1\n\u001b[0;32m----> <a href='vscode-notebook-cell://wsl%2Bubuntu/home/pclinux/spiced/data_science/capstone_project/exploration_causal_relations/causenet/01-concept-spotting/01-texts-training.ipynb#X11sdnNjb2RlLXJlbW90ZQ%3D%3D?line=0'>1</a>\u001b[0m \u001b[39massert\u001b[39;00m result[\u001b[39m'\u001b[39m\u001b[39mtest_score\u001b[39m\u001b[39m'\u001b[39m] \u001b[39m==\u001b[39m \u001b[39m0.6466\u001b[39m\n",
      "\u001b[0;31mAssertionError\u001b[0m: "
     ]
    }
   ],
   "source": [
    "assert result['test_score'] == 0.6466"
   ]
  }
 ],
 "metadata": {
  "kernelspec": {
   "display_name": ".venv",
   "language": "python",
   "name": "python3"
  },
  "language_info": {
   "codemirror_mode": {
    "name": "ipython",
    "version": 3
   },
   "file_extension": ".py",
   "mimetype": "text/x-python",
   "name": "python",
   "nbconvert_exporter": "python",
   "pygments_lexer": "ipython3",
   "version": "3.10.12"
  },
  "toc": {
   "base_numbering": 1,
   "nav_menu": {},
   "number_sections": true,
   "sideBar": true,
   "skip_h1_title": false,
   "title_cell": "Table of Contents",
   "title_sidebar": "Contents",
   "toc_cell": false,
   "toc_position": {},
   "toc_section_display": true,
   "toc_window_display": false
  }
 },
 "nbformat": 4,
 "nbformat_minor": 2
}
